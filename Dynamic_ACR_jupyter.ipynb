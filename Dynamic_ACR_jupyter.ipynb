{
 "cells": [
  {
   "cell_type": "code",
   "execution_count": 1,
   "id": "f16ffc28",
   "metadata": {},
   "outputs": [],
   "source": [
    "using DifferentialEquations\n",
    "using Plots"
   ]
  },
  {
   "cell_type": "code",
   "execution_count": 17,
   "id": "5f050058",
   "metadata": {},
   "outputs": [
    {
     "data": {
      "text/plain": [
       "simul_dif (generic function with 1 method)"
      ]
     },
     "execution_count": 17,
     "metadata": {},
     "output_type": "execute_result"
    }
   ],
   "source": [
    "function simul_dif(dc_dt, c, nl, t) # Here, check whether the order of the arguments works or not. \n",
    "  # Define the differential equations\n",
    "  # dc_dt = zeros(length(c), 1)\n",
    "  dc_dt[1] = Q * R * c[2] - c[1] * c[3]\n",
    "  dc_dt[2] = -Q * c[2] + c[1] * c[3]\n",
    "  dc_dt[3] = -c[1] * c[3]\n",
    "  #return dc_dt\n",
    "end"
   ]
  },
  {
   "cell_type": "code",
   "execution_count": 18,
   "id": "06f41ba6",
   "metadata": {},
   "outputs": [
    {
     "data": {
      "text/plain": [
       "2"
      ]
     },
     "execution_count": 18,
     "metadata": {},
     "output_type": "execute_result"
    }
   ],
   "source": [
    "# Define the initial conditions\n",
    "Cin = [1; 1; 1]\n",
    "# Define the time range\n",
    "trange = (0.0, 10.0)\n",
    "\n",
    "# Define the parameter vector\n",
    "Q = 1.0\n",
    "R = 2"
   ]
  },
  {
   "cell_type": "code",
   "execution_count": 19,
   "id": "05cc9f3a",
   "metadata": {},
   "outputs": [
    {
     "data": {
      "text/plain": [
       "\u001b[38;2;86;182;194mODEProblem\u001b[0m with uType \u001b[38;2;86;182;194mVector{Int64}\u001b[0m and tType \u001b[38;2;86;182;194mFloat64\u001b[0m. In-place: \u001b[38;2;86;182;194mtrue\u001b[0m\n",
       "timespan: (0.0, 10.0)\n",
       "u0: 3-element Vector{Int64}:\n",
       " 1\n",
       " 1\n",
       " 1"
      ]
     },
     "execution_count": 19,
     "metadata": {},
     "output_type": "execute_result"
    }
   ],
   "source": [
    "# Solve the differential equations\n",
    "prob = ODEProblem(simul_dif, Cin, trange, 2)"
   ]
  },
  {
   "cell_type": "code",
   "execution_count": 25,
   "id": "078dabea",
   "metadata": {},
   "outputs": [
    {
     "data": {
      "text/plain": [
       "retcode: Success\n",
       "Interpolation: 1st order linear\n",
       "t: 11-element Vector{Float64}:\n",
       "  0.0\n",
       "  1.0\n",
       "  2.0\n",
       "  3.0\n",
       "  4.0\n",
       "  5.0\n",
       "  6.0\n",
       "  7.0\n",
       "  8.0\n",
       "  9.0\n",
       " 10.0\n",
       "u: 11-element Vector{Vector{Float64}}:\n",
       " [1.0, 1.0, 1.0]\n",
       " [3.4034728088217343, 0.25486881741832457, 0.08678955634161703]\n",
       " [3.9490679431293056, 0.02446166428895283, 0.0020087282927890786]\n",
       " [3.9970183673814597, 0.0014720958342646728, 3.744095001233224e-5]\n",
       " [3.9998432899297276, 7.801087800161227e-5, 6.883142702719166e-7]\n",
       " [3.999992002267861, 3.9921285981354804e-6, 1.347494385446897e-8]\n",
       " [3.99999957085847, 2.14321026947519e-7, 4.994768943008219e-10]\n",
       " [3.9999999778045985, 1.1160826647124412e-8, -1.2625032608934543e-10]\n",
       " [3.999999995552807, 3.1590603035061173e-9, -1.8709262945274367e-9]\n",
       " [3.999999993088, 1.3780295205097614e-9, 4.155942122388745e-9]\n",
       " [4.000000036254175, -2.1478166066081516e-8, 6.702158582769606e-9]"
      ]
     },
     "execution_count": 25,
     "metadata": {},
     "output_type": "execute_result"
    }
   ],
   "source": [
    "#tspan = (0.0, 10.0)\n",
    "Q = 3\n",
    "R = 2.0\n",
    "sol1 = solve(prob, saveat = 1)"
   ]
  },
  {
   "cell_type": "code",
   "execution_count": null,
   "id": "f9e650d8",
   "metadata": {},
   "outputs": [],
   "source": [
    "# Plot the results\n",
    "plot(sol1)"
   ]
  },
  {
   "cell_type": "code",
   "execution_count": null,
   "id": "892ab065",
   "metadata": {},
   "outputs": [],
   "source": [
    "function example_function(x; y, z)\n",
    "    println(\"x:$x, y: $y, z: $z\")\n",
    "end"
   ]
  },
  {
   "cell_type": "code",
   "execution_count": 5,
   "id": "ef51aa09",
   "metadata": {},
   "outputs": [
    {
     "name": "stdout",
     "output_type": "stream",
     "text": [
      "x:10, y: 3, z: 5\n"
     ]
    }
   ],
   "source": [
    "# Call the function with keyword arguments\n",
    "example_function(10, y=3, z=5)"
   ]
  }
 ],
 "metadata": {
  "kernelspec": {
   "display_name": "Julia 1.7.2",
   "language": "julia",
   "name": "julia-1.7"
  },
  "language_info": {
   "file_extension": ".jl",
   "mimetype": "application/julia",
   "name": "julia",
   "version": "1.7.2"
  }
 },
 "nbformat": 4,
 "nbformat_minor": 5
}
