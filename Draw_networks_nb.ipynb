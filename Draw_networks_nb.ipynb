{
 "cells": [
  {
   "cell_type": "code",
   "execution_count": 2,
   "id": "449ecf84",
   "metadata": {},
   "outputs": [],
   "source": [
    "import numpy as np\n",
    "import pandas as pd\n",
    "import matplotlib.pyplot as plt\n",
    "from scipy.special import binom\n",
    "import math\n",
    "import inspect # print(inspect.getsource(MyFunction)) shows the source code for MyFunction\n",
    "import source_ACR_py as acr\n",
    "\n",
    "# Initialization\n",
    "num_S = 2\n",
    "max_order = 2\n",
    "num_R = 2\n",
    "num_total_C = int(binom(max_order + num_S, num_S))\n",
    "total_complex = acr.make_total_complexes(num_S, max_order)\n",
    "\n",
    "num_total_R = num_total_C * (num_total_C - 1)\n",
    "\n",
    "path = \"/Users/hyukpyohong/Dropbox/CRN_dynamicACR/Codes/data/\"\n",
    "\n",
    "# Load data\n",
    "# Warning: matrices data might be loaded as their transposes.\n",
    "list_acr_id = pd.read_csv(path + f\"python_list_acr_id_S{num_S}R{num_R}_max_ord{max_order}.csv\", header=None).transpose().to_numpy()\n",
    "list_unbnd_id = pd.read_csv(path + f\"python_list_unbnd_id_S{num_S}R{num_R}_max_ord{max_order}.csv\", header=None).transpose().to_numpy()\n",
    "matrix_R_id = pd.read_csv(path + f\"python_matrix_R_id_S{num_S}R{num_R}_max_ord{max_order}.csv\", header=None).transpose().to_numpy()\n",
    "\n",
    "net_list_with_acr = np.where(list_acr_id[0, :] > 0)[0]\n",
    "num_total_net = list_acr_id.shape[1]"
   ]
  },
  {
   "cell_type": "code",
   "execution_count": 3,
   "id": "f0259235",
   "metadata": {
    "scrolled": false
   },
   "outputs": [
    {
     "name": "stdout",
     "output_type": "stream",
     "text": [
      "======= Grouping network    1 =======\n",
      "======= Grouping network   51 =======\n",
      "======= Grouping network  101 =======\n",
      "======= Grouping network  151 =======\n",
      "======= Grouping network  201 =======\n",
      "======= Grouping network  251 =======\n",
      "======= Grouping network  301 =======\n",
      "======= Grouping network  351 =======\n",
      "======= Grouping network  401 =======\n"
     ]
    }
   ],
   "source": [
    "plot_array = [None] * num_total_net\n",
    "group_list = np.zeros(num_total_net, dtype='<U3')\n",
    "\n",
    "for net_id in range(1, num_total_net + 1):\n",
    "    if net_id % 50 == 1:\n",
    "        print(f\"======= Grouping network {net_id:4} =======\")\n",
    "    \n",
    "    list_R_id = matrix_R_id[:, net_id - 1]\n",
    "    list_source_id = np.zeros(num_R, dtype=int)\n",
    "    list_product_id = np.zeros(num_R, dtype=int)\n",
    "\n",
    "    for i in range(num_R):\n",
    "        s_id, p_id = acr.reaction_to_complex(list_R_id[i], num_total_C)\n",
    "        list_source_id[i] = s_id\n",
    "        list_product_id[i] = p_id\n",
    "\n",
    "    source_mat = total_complex[:, list_source_id-1]\n",
    "    product_mat = total_complex[:, list_product_id-1]\n",
    "    \n",
    "    #network_txt, network_txt_short = acr.crn_writing(source_mat, product_mat)\n",
    "    acr_id = list_acr_id[:, net_id - 1]\n",
    "    unbnd_id = list_unbnd_id[:, net_id - 1]\n",
    "    group_list[net_id - 1] = acr.grouping_network(source_mat, product_mat, acr_id, unbnd_id)\n"
   ]
  },
  {
   "cell_type": "code",
   "execution_count": 4,
   "id": "754acbdd",
   "metadata": {},
   "outputs": [
    {
     "name": "stdout",
     "output_type": "stream",
     "text": [
      "======= Drawing page    1 for group 100 =======\n",
      "======= Drawing page    1 for group 101 =======\n",
      "======= Drawing page    1 for group 102 =======\n",
      "======= Drawing page    1 for group 110 =======\n",
      "======= Drawing page    1 for group 120 =======\n",
      "======= Drawing page    1 for group 200 =======\n",
      "======= Drawing page    6 for group 200 =======\n",
      "======= Drawing page    1 for group 201 =======\n",
      "======= Drawing page    1 for group 202 =======\n",
      "======= Drawing page    1 for group 203 =======\n",
      "======= Drawing page    1 for group 210 =======\n",
      "======= Drawing page    1 for group 212 =======\n",
      "======= Drawing page    1 for group 220 =======\n",
      "======= Drawing page    1 for group 221 =======\n",
      "======= Drawing page    1 for group 223 =======\n",
      "======= Drawing page    1 for group 230 =======\n",
      "======= Drawing page    1 for group 231 =======\n",
      "======= Drawing page    1 for group 232 =======\n"
     ]
    }
   ],
   "source": [
    "group_size_dict = {}\n",
    "for r in [1,2]:\n",
    "    for id_acr in [0,1,2,3]:\n",
    "        for id_unbnd in [0,1,2,3]:\n",
    "            group_size_dict[str(r)+str(id_acr)+str(id_unbnd)] = 0\n",
    "\n",
    "path = \"/Users/hyukpyohong/Dropbox/CRN_dynamicACR/Codes/plots/\"\n",
    "layout1 = [3,4] # the layout for plotting CRNs. (3,4) means three rows and 4 columns.\n",
    "num_grid = np.prod(layout1)\n",
    "\n",
    "for gp in group_list:\n",
    "    group_size_dict[gp] += 1\n",
    "\n",
    "for gp in group_size_dict.keys():\n",
    "    gp_size = group_size_dict[gp]\n",
    "    num_sheets = math.ceil(gp_size/num_grid)\n",
    "    net_id_list_in_gp = np.where(group_list == gp)[0] + 1 # We add 1 to make net_id start from 1 not 0.\n",
    "    \n",
    "    for i in range(len(net_id_list_in_gp)):\n",
    "        page = math.floor(i/num_grid)+1\n",
    "        if (i % num_grid == 0):\n",
    "            if page % 5 == 1:\n",
    "                print(f\"======= Drawing page {page:4} for group {gp:3} =======\")\n",
    "            \n",
    "            if num_S == 2:\n",
    "                fig, axes = plt.subplots(layout1[0], layout1[1], figsize=(12, 9))\n",
    "            elif num_S == 3:\n",
    "                fig, axes = plt.subplots(layout1[0], layout1[1], figsize=(12, 9), subplot_kw=dict(projection='3d'))\n",
    "            else:\n",
    "                print('The number of species must be either 2 or 3 to draw plots.')\n",
    "                break\n",
    "\n",
    "        net_id = net_id_list_in_gp[i]\n",
    "        list_R_id = matrix_R_id[:, net_id - 1]\n",
    "        list_source_id = np.zeros(num_R, dtype=int)\n",
    "        list_product_id = np.zeros(num_R, dtype=int)\n",
    "\n",
    "        for j in range(num_R):\n",
    "            s_id, p_id = acr.reaction_to_complex(list_R_id[j], num_total_C)\n",
    "            list_source_id[j] = s_id\n",
    "            list_product_id[j] = p_id\n",
    "            \n",
    "        source_mat = total_complex[:, list_source_id-1]\n",
    "        product_mat = total_complex[:, list_product_id-1]\n",
    "        #network_txt, network_txt_short = acr.crn_writing(source_mat, product_mat)\n",
    "        acr_id = list_acr_id[:, net_id - 1]\n",
    "        unbnd_id = list_unbnd_id[:, net_id - 1]\n",
    "        rr = math.floor((i%num_grid)/layout1[1])\n",
    "        cc = i%layout1[1]\n",
    "        \n",
    "        acr.add_CRN_to_Axes(axes, rr, cc, source_mat, product_mat, acr_id, unbnd_id)\n",
    "        \n",
    "        if (i % num_grid == num_grid-1 or i == len(net_id_list_in_gp)-1):\n",
    "            if max(group_size_dict.values()) < 10:\n",
    "                plt.savefig(f\"{path}Grouped_S{num_S}R{num_R}_max_ord{max_order}_gp{gp}_{page:01}.png\")\n",
    "            elif max(group_size_dict.values()) < 100:\n",
    "                plt.savefig(f\"{path}Grouped_S{num_S}R{num_R}_max_ord{max_order}_gp{gp}_{page:02}.png\")\n",
    "            elif max(group_size_dict.values()) < 1000:\n",
    "                plt.savefig(f\"{path}Grouped_S{num_S}R{num_R}_max_ord{max_order}_gp{gp}_{page:03}.png\")\n",
    "            else:\n",
    "                plt.savefig(f\"{path}Grouped_S{num_S}R{num_R}_max_ord{max_order}_gp{gp}_{page:04}.png\")\n",
    "            plt.close() # Maybe, we need to move it above.\n",
    "            "
   ]
  }
 ],
 "metadata": {
  "kernelspec": {
   "display_name": "Python 3 (ipykernel)",
   "language": "python",
   "name": "python3"
  },
  "language_info": {
   "codemirror_mode": {
    "name": "ipython",
    "version": 3
   },
   "file_extension": ".py",
   "mimetype": "text/x-python",
   "name": "python",
   "nbconvert_exporter": "python",
   "pygments_lexer": "ipython3",
   "version": "3.12.1"
  },
  "varInspector": {
   "cols": {
    "lenName": 16,
    "lenType": 16,
    "lenVar": 40
   },
   "kernels_config": {
    "python": {
     "delete_cmd_postfix": "",
     "delete_cmd_prefix": "del ",
     "library": "var_list.py",
     "varRefreshCmd": "print(var_dic_list())"
    },
    "r": {
     "delete_cmd_postfix": ") ",
     "delete_cmd_prefix": "rm(",
     "library": "var_list.r",
     "varRefreshCmd": "cat(var_dic_list()) "
    }
   },
   "oldHeight": 122.844,
   "position": {
    "height": "429.844px",
    "left": "1135px",
    "right": "20px",
    "top": "105px",
    "width": "396px"
   },
   "types_to_exclude": [
    "module",
    "function",
    "builtin_function_or_method",
    "instance",
    "_Feature"
   ],
   "varInspector_section_display": "block",
   "window_display": false
  }
 },
 "nbformat": 4,
 "nbformat_minor": 5
}
