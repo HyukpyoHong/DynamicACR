{
 "cells": [
  {
   "cell_type": "code",
   "execution_count": 14,
   "id": "b62c7870",
   "metadata": {},
   "outputs": [],
   "source": [
    "# import numpy as np\n",
    "import pandas as pd\n",
    "import matplotlib.pyplot as plt\n",
    "from scipy.special import binom\n",
    "\n",
    "# Assuming you have the required functions from source_ACR_py.py\n",
    "import source_ACR_py as acr\n",
    "\n",
    "# Initialization\n",
    "num_S = 2\n",
    "max_order = 2\n",
    "num_R = 2\n",
    "num_total_C = int(binom(max_order + num_S, num_S))\n",
    "total_complex = acr.make_total_complexes(num_S, max_order)\n",
    "\n",
    "num_total_R = num_total_C * (num_total_C - 1)\n",
    "\n",
    "path = \"/Users/hyukpyohong/Dropbox/CRN_dynamicACR/Codes/data/\"\n",
    "\n",
    "# Load data\n",
    "# Warning: matrices data might be loaded as their transposes.\n",
    "list_acr_id = pd.read_csv(path + f\"python_list_acr_id_S{num_S}R{num_R}_max_ord{max_order}.csv\", header=None).transpose().to_numpy()\n",
    "list_unbnd_id = pd.read_csv(path + f\"python_list_unbnd_id_S{num_S}R{num_R}_max_ord{max_order}.csv\", header=None).transpose().to_numpy()\n",
    "matrix_R_id = pd.read_csv(path + f\"python_matrix_R_id_S{num_S}R{num_R}_max_ord{max_order}.csv\", header=None).transpose().to_numpy()\n",
    "\n",
    "net_list_with_acr = np.where(list_acr_id[0, :] > 0)[0]\n",
    "num_total_net = list_acr_id.shape[1]"
   ]
  },
  {
   "cell_type": "code",
   "execution_count": 15,
   "id": "f0259235",
   "metadata": {},
   "outputs": [
    {
     "name": "stdout",
     "output_type": "stream",
     "text": [
      "======= Drawing network    1 =======\n",
      "======= Drawing network   11 =======\n",
      "======= Drawing network   21 =======\n",
      "======= Drawing network   31 =======\n",
      "======= Drawing network   41 =======\n",
      "======= Drawing network   51 =======\n",
      "======= Drawing network   61 =======\n",
      "======= Drawing network   71 =======\n",
      "======= Drawing network   81 =======\n",
      "======= Drawing network   91 =======\n",
      "======= Drawing network  101 =======\n",
      "======= Drawing network  111 =======\n",
      "======= Drawing network  121 =======\n",
      "======= Drawing network  131 =======\n",
      "======= Drawing network  141 =======\n",
      "======= Drawing network  151 =======\n",
      "======= Drawing network  161 =======\n",
      "======= Drawing network  171 =======\n",
      "======= Drawing network  181 =======\n",
      "======= Drawing network  191 =======\n",
      "======= Drawing network  201 =======\n",
      "======= Drawing network  211 =======\n",
      "======= Drawing network  221 =======\n",
      "======= Drawing network  231 =======\n",
      "======= Drawing network  241 =======\n",
      "======= Drawing network  251 =======\n",
      "======= Drawing network  261 =======\n",
      "======= Drawing network  271 =======\n",
      "======= Drawing network  281 =======\n",
      "======= Drawing network  291 =======\n",
      "======= Drawing network  301 =======\n",
      "======= Drawing network  311 =======\n",
      "======= Drawing network  321 =======\n",
      "======= Drawing network  331 =======\n",
      "======= Drawing network  341 =======\n",
      "======= Drawing network  351 =======\n",
      "======= Drawing network  361 =======\n",
      "======= Drawing network  371 =======\n",
      "======= Drawing network  381 =======\n",
      "======= Drawing network  391 =======\n",
      "======= Drawing network  401 =======\n",
      "======= Drawing network  411 =======\n",
      "======= Drawing network  421 =======\n",
      "======= Drawing network  431 =======\n"
     ]
    }
   ],
   "source": [
    "plot_array = [None] * num_total_net\n",
    "group_list = np.zeros(num_total_net, dtype=int)\n",
    "\n",
    "for check_net_id in range(1, num_total_net + 1):\n",
    "#for check_net_id in range(1, 5):\n",
    "    if check_net_id % 10 == 1:\n",
    "        print(f\"======= Drawing network {check_net_id:4} =======\")\n",
    "    \n",
    "    list_R_id = matrix_R_id[:, check_net_id - 1]\n",
    "    list_source_id = np.zeros(num_R, dtype=int)\n",
    "    list_product_id = np.zeros(num_R, dtype=int)\n",
    "\n",
    "    for i in range(num_R):\n",
    "        s_id, p_id = acr.reaction_to_complex(list_R_id[i], num_total_C)\n",
    "        list_source_id[i] = s_id\n",
    "        list_product_id[i] = p_id\n",
    "\n",
    "    source_mat = total_complex[:, list_source_id-1]\n",
    "    product_mat = total_complex[:, list_product_id-1]\n",
    "    \n",
    "    network_txt, network_txt_short = acr.crn_writing(source_mat, product_mat)\n",
    "    acr_id = list_acr_id[:, check_net_id - 1]\n",
    "    unbnd_id = list_unbnd_id[:, check_net_id - 1]\n",
    "\n",
    "    plot_array[check_net_id - 1] = acr.crn_embedding_info(source_mat, product_mat, acr_id, unbnd_id)\n",
    "    group_list[check_net_id - 1] = acr.grouping_network(source_mat, product_mat, acr_id, unbnd_id)\n",
    "    plt.close()\n",
    "    "
   ]
  },
  {
   "cell_type": "code",
   "execution_count": 19,
   "id": "ca905381-0bbe-4914-b92b-285ec7915271",
   "metadata": {},
   "outputs": [],
   "source": [
    "plt.close()"
   ]
  },
  {
   "cell_type": "code",
   "execution_count": 5,
   "id": "12a487f6-4f14-4d7d-8ecf-0ee8df3ee948",
   "metadata": {},
   "outputs": [
    {
     "ename": "NameError",
     "evalue": "name 'p_arr_2s3r' is not defined",
     "output_type": "error",
     "traceback": [
      "\u001b[0;31m---------------------------------------------------------------------------\u001b[0m",
      "\u001b[0;31mNameError\u001b[0m                                 Traceback (most recent call last)",
      "Cell \u001b[0;32mIn[5], line 6\u001b[0m\n\u001b[1;32m      3\u001b[0m num_grid \u001b[38;5;241m=\u001b[39m np\u001b[38;5;241m.\u001b[39mprod(layout1)\n\u001b[1;32m      4\u001b[0m blank \u001b[38;5;241m=\u001b[39m plt\u001b[38;5;241m.\u001b[39mfigure()\n\u001b[0;32m----> 6\u001b[0m p_arr_total \u001b[38;5;241m=\u001b[39m \u001b[43mp_arr_2s3r\u001b[49m\n\u001b[1;32m      7\u001b[0m gp_size_check_2s3r \u001b[38;5;241m=\u001b[39m np\u001b[38;5;241m.\u001b[39mzeros(\u001b[38;5;241m25\u001b[39m, dtype\u001b[38;5;241m=\u001b[39m\u001b[38;5;28mint\u001b[39m)\n\u001b[1;32m      9\u001b[0m \u001b[38;5;28;01mfor\u001b[39;00m i \u001b[38;5;129;01min\u001b[39;00m gp_list_2s3r:\n",
      "\u001b[0;31mNameError\u001b[0m: name 'p_arr_2s3r' is not defined"
     ]
    },
    {
     "data": {
      "text/plain": [
       "<Figure size 640x480 with 0 Axes>"
      ]
     },
     "metadata": {},
     "output_type": "display_data"
    }
   ],
   "source": [
    "path = \"/Users/hyukpyohong/Dropbox/CRN_dynamicACR/Codes/plots/\"\n",
    "layout1 = (3, 4)\n",
    "num_grid = np.prod(layout1)\n",
    "blank = plt.figure()\n",
    "\n",
    "p_arr_total = plot_array\n",
    "gp_size_check = np.zeros(25, dtype=int)\n",
    "\n",
    "for i in group_list:\n",
    "    gp_size_check[i - 1] += 1\n",
    "\n",
    "for gp_id in range(1, 26):\n",
    "    p_arr_subset = [p_arr_total[i - 1] for i in np.where(group_list == gp_id)[0] + 1]\n",
    "    p_arr = p_arr_subset\n",
    "    tmp1 = len(p_arr)\n",
    "\n",
    "    if tmp1 % num_grid != 0:\n",
    "        for i in range(1, num_grid - (tmp1 % num_grid) + 1):\n",
    "            p_arr.append(blank)\n",
    "\n",
    "    num_paper = int(len(p_arr) / num_grid)\n",
    "\n",
    "    for iter_paper in range(1, num_paper + 1):\n",
    "        if iter_paper % 10 == 1:\n",
    "            print(f\"======= Drawing paper sheet {iter_paper:4} =======\")\n",
    "        \n",
    "        plt.figure(figsize=(12, 9))\n",
    "        for i in range(num_grid):\n",
    "            plt.subplot(layout1[0], layout1[1], i + 1)\n",
    "            plt.imshow(p_arr[num_grid * (iter_paper - 1) + i].show(), cmap='viridis')\n",
    "            plt.axis('off')\n",
    "\n",
    "        plt.savefig(f\"{path}Grouped_S{num_S}R{num_R}_max_ord{max_order}_gp{gp_id}_{iter_paper}.png\")"
   ]
  },
  {
   "cell_type": "code",
   "execution_count": 5,
   "id": "65d98022",
   "metadata": {},
   "outputs": [
    {
     "data": {
      "text/plain": [
       "435"
      ]
     },
     "execution_count": 5,
     "metadata": {},
     "output_type": "execute_result"
    }
   ],
   "source": [
    "check_net_id"
   ]
  },
  {
   "cell_type": "code",
   "execution_count": 3,
   "id": "fb47bd98",
   "metadata": {},
   "outputs": [
    {
     "data": {
      "image/png": "[encoded data removed]",
      "text/plain": [
       "<Figure size 640x480 with 1 Axes>"
      ]
     },
     "execution_count": 3,
     "metadata": {},
     "output_type": "execute_result"
    }
   ],
   "source": [
    "plot_array[1][0]"
   ]
  },
  {
   "cell_type": "code",
   "execution_count": 17,
   "id": "2ddb00c6",
   "metadata": {},
   "outputs": [
    {
     "data": {
      "text/plain": [
       "array([101, 203, 203, 203, 110, 101, 212, 203, 212, 100, 110, 212, 212,\n",
       "       212, 201, 201, 201, 101, 202, 201, 201, 201, 100, 212, 221, 221,\n",
       "       221, 221, 221, 203, 203, 203, 110, 101, 212, 203, 212, 110, 110,\n",
       "       212, 212, 212, 201, 201, 201, 101, 202, 201, 201, 201, 110, 212,\n",
       "       221, 221, 221, 221, 221, 203, 102, 202, 201, 202, 102, 202, 212,\n",
       "       212, 212, 212, 212, 120, 221, 221, 201, 102, 202, 120, 221, 202,\n",
       "       202, 120, 221, 221, 120, 221, 203, 212, 201, 212, 203, 212, 212,\n",
       "       212, 212, 212, 212, 221, 221, 221, 201, 202, 100, 221, 221, 212,\n",
       "       212, 221, 221, 221, 221, 221, 202, 203, 202, 102, 202, 212, 212,\n",
       "       212, 202, 202, 120, 221, 221, 203, 102, 202, 100, 221, 202, 202,\n",
       "       120, 221, 221, 120, 221, 101, 200, 202, 200, 100, 100, 202, 202,\n",
       "       202, 200, 200, 200, 101, 202, 200, 200, 200, 100, 200, 200, 200,\n",
       "       220, 200, 220, 203, 203, 203, 110, 110, 212, 212, 212, 201, 201,\n",
       "       201, 101, 203, 201, 201, 201, 100, 200, 201, 221, 201, 201, 201,\n",
       "       200, 200, 200, 200, 202, 102, 102, 200, 100, 203, 203, 202, 200,\n",
       "       220, 120, 200, 100, 220, 220, 101, 200, 101, 202, 200, 212, 210,\n",
       "       210, 202, 102, 203, 203, 203, 102, 200, 120, 221, 200, 200, 100,\n",
       "       201, 201, 100, 201, 200, 200, 200, 202, 202, 200, 203, 203, 203,\n",
       "       202, 200, 220, 221, 200, 200, 220, 100, 201, 200, 203, 100, 202,\n",
       "       202, 202, 200, 200, 210, 100, 202, 200, 220, 230, 100, 200, 210,\n",
       "       230, 230, 200, 210, 202, 202, 202, 200, 210, 200, 100, 212, 200,\n",
       "       210, 230, 100, 200, 230, 210, 210, 230, 210, 202, 202, 200, 210,\n",
       "       100, 202, 212, 200, 202, 232, 200, 200, 220, 230, 230, 230, 230,\n",
       "       102, 210, 100, 202, 202, 202, 200, 212, 100, 202, 100, 230, 230,\n",
       "       102, 230, 100, 210, 102, 203, 202, 202, 200, 212, 102, 200, 102,\n",
       "       220, 230, 100, 220, 100, 200, 200, 201, 102, 200, 100, 200, 200,\n",
       "       200, 100, 201, 201, 100, 201, 200, 201, 203, 210, 200, 100, 210,\n",
       "       110, 220, 201, 101, 200, 101, 201, 203, 200, 200, 200, 210, 212,\n",
       "       200, 201, 201, 200, 201, 203, 200, 200, 200, 110, 212, 220, 220,\n",
       "       201, 201, 221, 202, 100, 200, 202, 202, 120, 221, 223, 100, 223,\n",
       "       200, 200, 200, 200, 200, 200, 200, 200, 200, 200, 200, 200, 100,\n",
       "       200, 201, 100, 200, 200, 100, 200, 201, 101, 200, 101, 200, 200,\n",
       "       200, 231, 220, 230, 230, 231, 101, 220, 101, 201, 201, 100, 201,\n",
       "       201, 200, 201, 201, 101, 200])"
      ]
     },
     "execution_count": 17,
     "metadata": {},
     "output_type": "execute_result"
    }
   ],
   "source": [
    "group_list"
   ]
  }
 ],
 "metadata": {
  "kernelspec": {
   "display_name": "Python 3 (ipykernel)",
   "language": "python",
   "name": "python3"
  },
  "language_info": {
   "codemirror_mode": {
    "name": "ipython",
    "version": 3
   },
   "file_extension": ".py",
   "mimetype": "text/x-python",
   "name": "python",
   "nbconvert_exporter": "python",
   "pygments_lexer": "ipython3",
   "version": "3.12.1"
  },
  "varInspector": {
   "cols": {
    "lenName": 16,
    "lenType": 16,
    "lenVar": 40
   },
   "kernels_config": {
    "python": {
     "delete_cmd_postfix": "",
     "delete_cmd_prefix": "del ",
     "library": "var_list.py",
     "varRefreshCmd": "print(var_dic_list())"
    },
    "r": {
     "delete_cmd_postfix": ") ",
     "delete_cmd_prefix": "rm(",
     "library": "var_list.r",
     "varRefreshCmd": "cat(var_dic_list()) "
    }
   },
   "oldHeight": 122.844,
   "position": {
    "height": "144.844px",
    "left": "1550px",
    "right": "20px",
    "top": "120px",
    "width": "350px"
   },
   "types_to_exclude": [
    "module",
    "function",
    "builtin_function_or_method",
    "instance",
    "_Feature"
   ],
   "varInspector_section_display": "block",
   "window_display": true
  }
 },
 "nbformat": 4,
 "nbformat_minor": 5
}
