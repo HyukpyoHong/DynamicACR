{
 "cells": [
  {
   "cell_type": "code",
   "execution_count": 1,
   "id": "b62c7870",
   "metadata": {},
   "outputs": [],
   "source": [
    "# import numpy as np\n",
    "import pandas as pd\n",
    "import matplotlib.pyplot as plt\n",
    "from scipy.special import binom\n",
    "\n",
    "# Assuming you have the required functions from source_ACR_py.py\n",
    "import source_ACR_py as acr\n",
    "\n",
    "# Initialization\n",
    "num_S = 2\n",
    "max_order = 2\n",
    "num_R = 2\n",
    "num_total_C = int(binom(max_order + num_S, num_S))\n",
    "total_complex = acr.make_total_complexes(num_S, max_order)\n",
    "\n",
    "num_total_R = num_total_C * (num_total_C - 1)\n",
    "\n",
    "path = \"/Users/hyukpyohong/Dropbox/CRN_dynamicACR/Codes/data/\"\n",
    "\n",
    "# Load data\n",
    "# Warning: matrices data might be loaded as their transposes.\n",
    "list_acr_id = pd.read_csv(path + f\"python_list_acr_id_S{num_S}R{num_R}_max_ord{max_order}.csv\", header=None).transpose().to_numpy()\n",
    "list_unbnd_id = pd.read_csv(path + f\"python_list_unbnd_id_S{num_S}R{num_R}_max_ord{max_order}.csv\", header=None).transpose().to_numpy()\n",
    "matrix_R_id = pd.read_csv(path + f\"python_matrix_R_id_S{num_S}R{num_R}_max_ord{max_order}.csv\", header=None).transpose().to_numpy()\n",
    "\n",
    "net_list_with_acr = np.where(list_acr_id[0, :] > 0)[0]\n",
    "num_total_net = list_acr_id.shape[1]"
   ]
  },
  {
   "cell_type": "code",
   "execution_count": 2,
   "id": "f0259235",
   "metadata": {
    "scrolled": false
   },
   "outputs": [
    {
     "name": "stdout",
     "output_type": "stream",
     "text": [
      "======= Drawing network    1 =======\n",
      "======= Drawing network   51 =======\n",
      "======= Drawing network  101 =======\n",
      "======= Drawing network  151 =======\n",
      "======= Drawing network  201 =======\n",
      "======= Drawing network  251 =======\n",
      "======= Drawing network  301 =======\n",
      "======= Drawing network  351 =======\n",
      "======= Drawing network  401 =======\n"
     ]
    }
   ],
   "source": [
    "plot_array = [None] * num_total_net\n",
    "group_list = np.zeros(num_total_net, dtype='<U3')\n",
    "\n",
    "for check_net_id in range(1, num_total_net + 1):\n",
    "#for check_net_id in range(1, 5):\n",
    "    if check_net_id % 50 == 1:\n",
    "        print(f\"======= Drawing network {check_net_id:4} =======\")\n",
    "    \n",
    "    list_R_id = matrix_R_id[:, check_net_id - 1]\n",
    "    list_source_id = np.zeros(num_R, dtype=int)\n",
    "    list_product_id = np.zeros(num_R, dtype=int)\n",
    "\n",
    "    for i in range(num_R):\n",
    "        s_id, p_id = acr.reaction_to_complex(list_R_id[i], num_total_C)\n",
    "        list_source_id[i] = s_id\n",
    "        list_product_id[i] = p_id\n",
    "\n",
    "    source_mat = total_complex[:, list_source_id-1]\n",
    "    product_mat = total_complex[:, list_product_id-1]\n",
    "    \n",
    "    network_txt, network_txt_short = acr.crn_writing(source_mat, product_mat)\n",
    "    acr_id = list_acr_id[:, check_net_id - 1]\n",
    "    unbnd_id = list_unbnd_id[:, check_net_id - 1]\n",
    "\n",
    "    plot_array[check_net_id - 1] = acr.crn_embedding_info(source_mat, product_mat, acr_id, unbnd_id)\n",
    "    group_list[check_net_id - 1] = acr.grouping_network(source_mat, product_mat, acr_id, unbnd_id)\n",
    "    #print(type(group_list[check_net_id - 1]))\n",
    "    plt.close()\n",
    "    "
   ]
  },
  {
   "cell_type": "code",
   "execution_count": 3,
   "id": "ca905381-0bbe-4914-b92b-285ec7915271",
   "metadata": {},
   "outputs": [],
   "source": [
    "plt.close()"
   ]
  },
  {
   "cell_type": "code",
   "execution_count": 125,
   "id": "12a487f6-4f14-4d7d-8ecf-0ee8df3ee948",
   "metadata": {
    "scrolled": true
   },
   "outputs": [
    {
     "name": "stdout",
     "output_type": "stream",
     "text": [
      "======= Drawing paper sheet    1 =======\n",
      "======= Drawing paper sheet    1 =======\n",
      "======= Drawing paper sheet    1 =======\n",
      "======= Drawing paper sheet    1 =======\n",
      "======= Drawing paper sheet    1 =======\n",
      "======= Drawing paper sheet    1 =======\n",
      "======= Drawing paper sheet    1 =======\n",
      "======= Drawing paper sheet    1 =======\n",
      "======= Drawing paper sheet    1 =======\n",
      "======= Drawing paper sheet    1 =======\n",
      "======= Drawing paper sheet    1 =======\n",
      "======= Drawing paper sheet    1 =======\n",
      "======= Drawing paper sheet    1 =======\n",
      "======= Drawing paper sheet    1 =======\n",
      "======= Drawing paper sheet    1 =======\n",
      "======= Drawing paper sheet    1 =======\n",
      "======= Drawing paper sheet    1 =======\n"
     ]
    }
   ],
   "source": [
    "group_size_dict = {}\n",
    "for r in [1,2]:\n",
    "    for id_acr in [0,1,2,3]:\n",
    "        for id_unbnd in [0,1,2,3]:\n",
    "            group_size_dict[str(r)+str(id_acr)+str(id_unbnd)] = 0\n",
    "\n",
    "path = \"/Users/hyukpyohong/Dropbox/CRN_dynamicACR/Codes/plots/\"\n",
    "layout1 = [3,4] # the layout for plotting CRNs. (3,4) means three rows and 4 columns.\n",
    "num_grid = np.prod(layout1)\n",
    "#blank = plt.figure()\n",
    "blank = plt.subplots()\n",
    "plt.close()\n",
    "num_groups = len(group_size_dict)\n",
    "\n",
    "for gp in group_list:\n",
    "    group_size_dict[gp] += 1\n",
    "\n",
    "for gp in group_size_dict:\n",
    "    plots_for_gp = [plot_array[i] for i in np.where(group_list == gp)[0]]\n",
    "    \n",
    "    if group_size_dict[gp] % num_grid != 0:\n",
    "        for i in range(num_grid - (group_size_dict[gp] % num_grid)):\n",
    "            plots_for_gp.append(blank)\n",
    "    # After the code above, now we have plots_for_gp with some blanks page. \n",
    "    # Also, the len(plots_for_gp) is multiple of num_grid\n",
    "    \n",
    "    num_paper = int(len(plots_for_gp) / num_grid)\n",
    "\n",
    "    for iter_paper in range(1, num_paper + 1):\n",
    "        if iter_paper % 10 == 1:\n",
    "            print(f\"======= Drawing paper sheet {iter_paper:4} =======\")\n",
    "        \n",
    "        plt.figure(figsize=(12, 9))\n",
    "#         for i in range(num_grid):\n",
    "#             plt.subplot(layout1[0], layout1[1], i + 1)\n",
    "#             plots_for_gp[num_grid * (iter_paper - 1) + i]\n",
    "#             plt.axis('off')\n",
    "        plt.close()\n",
    "#         plt.savefig(f\"{path}Grouped_S{num_S}R{num_R}_max_ord{max_order}_gp{gp}_{iter_paper}.png\")"
   ]
  },
  {
   "cell_type": "code",
   "execution_count": 3,
   "id": "65d98022",
   "metadata": {},
   "outputs": [],
   "source": [
    "gp = '101'\n",
    "plots_for_gp = [plot_array[i] for i in np.where(group_list == gp)[0]]\n",
    "# group_size_dict[gp]\n",
    "# len(plots_for_gp)"
   ]
  },
  {
   "cell_type": "code",
   "execution_count": 17,
   "id": "b6c452f1",
   "metadata": {},
   "outputs": [
    {
     "data": {
      "text/plain": [
       "[(<Figure size 640x480 with 1 Axes>, <Axes: xlabel='A', ylabel='B'>),\n",
       " (<Figure size 640x480 with 1 Axes>, <Axes: xlabel='A', ylabel='B'>),\n",
       " (<Figure size 640x480 with 1 Axes>, <Axes: xlabel='A', ylabel='B'>),\n",
       " (<Figure size 640x480 with 1 Axes>, <Axes: xlabel='A', ylabel='B'>),\n",
       " (<Figure size 640x480 with 1 Axes>, <Axes: xlabel='A', ylabel='B'>),\n",
       " (<Figure size 640x480 with 1 Axes>, <Axes: xlabel='A', ylabel='B'>),\n",
       " (<Figure size 640x480 with 1 Axes>, <Axes: xlabel='A', ylabel='B'>),\n",
       " (<Figure size 640x480 with 1 Axes>, <Axes: xlabel='A', ylabel='B'>),\n",
       " (<Figure size 640x480 with 1 Axes>, <Axes: xlabel='A', ylabel='B'>),\n",
       " (<Figure size 640x480 with 1 Axes>, <Axes: xlabel='A', ylabel='B'>),\n",
       " (<Figure size 640x480 with 1 Axes>, <Axes: xlabel='A', ylabel='B'>),\n",
       " (<Figure size 640x480 with 1 Axes>, <Axes: xlabel='A', ylabel='B'>),\n",
       " (<Figure size 640x480 with 1 Axes>, <Axes: xlabel='A', ylabel='B'>),\n",
       " (<Figure size 640x480 with 1 Axes>, <Axes: xlabel='A', ylabel='B'>),\n",
       " (<Figure size 640x480 with 1 Axes>, <Axes: xlabel='A', ylabel='B'>),\n",
       " (<Figure size 640x480 with 1 Axes>, <Axes: xlabel='A', ylabel='B'>),\n",
       " (<Figure size 640x480 with 1 Axes>, <Axes: xlabel='A', ylabel='B'>)]"
      ]
     },
     "execution_count": 17,
     "metadata": {},
     "output_type": "execute_result"
    }
   ],
   "source": [
    "plots_for_gp"
   ]
  },
  {
   "cell_type": "code",
   "execution_count": 15,
   "id": "e053149a",
   "metadata": {},
   "outputs": [
    {
     "ename": "TypeError",
     "evalue": "_AxesBase.add_child_axes() missing 1 required positional argument: 'ax'",
     "output_type": "error",
     "traceback": [
      "\u001b[0;31m---------------------------------------------------------------------------\u001b[0m",
      "\u001b[0;31mTypeError\u001b[0m                                 Traceback (most recent call last)",
      "Cell \u001b[0;32mIn[15], line 3\u001b[0m\n\u001b[1;32m      1\u001b[0m \u001b[38;5;66;03m#plots_for_gp[0][1].properties()\u001b[39;00m\n\u001b[1;32m      2\u001b[0m ax\u001b[38;5;241m=\u001b[39mplots_for_gp[\u001b[38;5;241m0\u001b[39m][\u001b[38;5;241m1\u001b[39m]\u001b[38;5;241m.\u001b[39mget_children\n\u001b[0;32m----> 3\u001b[0m \u001b[43max0\u001b[49m\u001b[38;5;241;43m.\u001b[39;49m\u001b[43madd_child_axes\u001b[49m\u001b[43m(\u001b[49m\u001b[43m)\u001b[49m\n",
      "\u001b[0;31mTypeError\u001b[0m: _AxesBase.add_child_axes() missing 1 required positional argument: 'ax'"
     ]
    }
   ],
   "source": [
    "#plots_for_gp[0][1].properties()\n",
    "ax=plots_for_gp[0][1].get_children\n",
    "ax0.add_child_axes"
   ]
  }
 ],
 "metadata": {
  "kernelspec": {
   "display_name": "Python 3 (ipykernel)",
   "language": "python",
   "name": "python3"
  },
  "language_info": {
   "codemirror_mode": {
    "name": "ipython",
    "version": 3
   },
   "file_extension": ".py",
   "mimetype": "text/x-python",
   "name": "python",
   "nbconvert_exporter": "python",
   "pygments_lexer": "ipython3",
   "version": "3.12.1"
  },
  "varInspector": {
   "cols": {
    "lenName": 16,
    "lenType": 16,
    "lenVar": 40
   },
   "kernels_config": {
    "python": {
     "delete_cmd_postfix": "",
     "delete_cmd_prefix": "del ",
     "library": "var_list.py",
     "varRefreshCmd": "print(var_dic_list())"
    },
    "r": {
     "delete_cmd_postfix": ") ",
     "delete_cmd_prefix": "rm(",
     "library": "var_list.r",
     "varRefreshCmd": "cat(var_dic_list()) "
    }
   },
   "oldHeight": 122.844,
   "position": {
    "height": "144.844px",
    "left": "1375px",
    "right": "20px",
    "top": "127px",
    "width": "350px"
   },
   "types_to_exclude": [
    "module",
    "function",
    "builtin_function_or_method",
    "instance",
    "_Feature"
   ],
   "varInspector_section_display": "block",
   "window_display": false
  }
 },
 "nbformat": 4,
 "nbformat_minor": 5
}
