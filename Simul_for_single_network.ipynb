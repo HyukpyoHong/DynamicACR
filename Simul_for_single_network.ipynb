{
 "cells": [
  {
   "cell_type": "code",
   "execution_count": 174,
   "id": "0b30a626-26b0-466d-9b25-f8748944f7fc",
   "metadata": {},
   "outputs": [],
   "source": [
    "import numpy as np\n",
    "import pandas as pd\n",
    "#import scipy\n",
    "from scipy.special import binom\n",
    "from scipy.integrate import solve_ivp\n",
    "import matplotlib.pyplot as plt\n",
    "# from scipy.stats import quantile\n",
    "# from itertools import combinations\n",
    "\n",
    "# Load source_ACR module\n",
    "# Assuming the relevant functions are defined in source_ACR_py.py\n",
    "import source_ACR_py as acr\n",
    "\n",
    "# Initialization\n",
    "thres_acr = 0.05 # it seems good\n",
    "thres_positive = 0.1 # it seems reasonable but sometimes unappropriate\n",
    "thres_unbounded = 0.1 # it seems reasonable but sometimes unappropriate\n",
    "num_S = 2\n",
    "max_order = 2\n",
    "num_R = 2\n",
    "source_mat = None\n",
    "product_mat = None\n",
    "stoi_mat = None\n",
    "\n",
    "num_total_C = int(binom(max_order + num_S, num_S))\n",
    "total_complex = acr.make_total_complexes(num_S, max_order)\n",
    "\n",
    "num_total_R = num_total_C * (num_total_C - 1)\n",
    "num_total_net = int(binom(num_total_R, num_R))\n",
    "\n",
    "num_repeat_par = 7\n",
    "num_repeat_init = 20"
   ]
  },
  {
   "cell_type": "code",
   "execution_count": 340,
   "id": "e6ef8123-a202-45d5-acd2-ae883c800b89",
   "metadata": {},
   "outputs": [
    {
     "name": "stdout",
     "output_type": "stream",
     "text": [
      "======= Analyzing network  422 =======\n",
      "======= DONE =======\n"
     ]
    }
   ],
   "source": [
    "# Beginning of the random network search\n",
    "list_acr_id = np.zeros(num_S, dtype=int)\n",
    "list_unbnd_id = np.zeros(num_S, dtype=int)\n",
    "\n",
    "rnd_search = False\n",
    "net_id = 422\n",
    "print(f\"======= Analyzing network {net_id:4} =======\")\n",
    "list_R_id = acr.net_id_to_R_id_list(net_id, num_total_R, num_R)\n",
    "list_source_id, list_product_id = zip(*[acr.reaction_id_to_complex_id(R_id, num_total_C) for R_id in list_R_id])\n",
    "source_mat = total_complex[:, np.array(list_source_id)-1]\n",
    "product_mat = total_complex[:, np.array(list_product_id)-1]\n",
    "stoi_mat = product_mat - source_mat\n",
    "\n",
    "# Simulation settings\n",
    "tspan1 = (0.0, 50.0)\n",
    "\n",
    "ub_param = 10 * np.ones(num_R) # Lower bounds for the parameter values\n",
    "lb_param = np.zeros(num_R) # Upper bounds for the parameter values\n",
    "\n",
    "ub_init = 20 * np.ones(num_S) # Lower bounds for the initial values\n",
    "lb_init = np.ones(num_S) # Upper bounds for the initial values\n",
    "\n",
    "list_acr_id_par = np.zeros((num_S, num_repeat_par), dtype=int)\n",
    "list_unbnd_id_par = np.zeros((num_S, num_repeat_par), dtype=int)\n",
    "\n",
    "upp_val = np.zeros((num_S, num_repeat_par))\n",
    "low_val = np.zeros((num_S, num_repeat_par))\n",
    "kappa1 = np.zeros((num_R, num_repeat_par))\n",
    "\n",
    "for iter_par in range(num_repeat_par):\n",
    "    kappa1[:, iter_par] = np.random.uniform(low=lb_param, high=ub_param, size=num_R)\n",
    "    final_val_mat = np.zeros((num_S, num_repeat_init))\n",
    "    latter_val_mat = np.zeros((num_S, num_repeat_init))\n",
    "\n",
    "    for iter_init in range(1, num_repeat_init + 1):\n",
    "        x_init = np.random.uniform(low=lb_init, high=ub_init, size=num_S)\n",
    "        t_eval = np.arange(tspan1[0], tspan1[1]+1, 1)\n",
    "        sol1 = solve_ivp(acr.MAK_rescaled, tspan1, x_init, args = (kappa1[:, iter_par], source_mat, stoi_mat), method='RK45', t_eval=t_eval)\n",
    "        sol_mat1 = sol1.y.T\n",
    "        length_tspan = sol_mat1.shape[0]\n",
    "        final_val_mat[:, iter_init - 1] = sol_mat1[length_tspan - 1, :]\n",
    "\n",
    "        if int(np.floor(0.8 * length_tspan)) >= 1:\n",
    "            latter_val_mat[:, iter_init - 1] = sol_mat1[int(np.floor(0.8 * length_tspan)), :]\n",
    "\n",
    "    upp_val[:,iter_par] = np.array([np.quantile(final_val_mat[i, :], 0.6) for i in range(num_S)])\n",
    "    low_val[:,iter_par] = np.array([np.quantile(final_val_mat[i, :], 0.4) for i in range(num_S)])\n",
    "\n",
    "    for i in range(num_S):\n",
    "        if upp_val[i,iter_par] - low_val[i,iter_par] < thres_acr and low_val[i,iter_par] > thres_positive:\n",
    "            list_acr_id_par[i, iter_par] = 1\n",
    "        if np.mean(latter_val_mat[i, :]) > lb_init[i] and np.mean(final_val_mat[i, :]) > np.mean(latter_val_mat[i, :]) + thres_unbounded:\n",
    "            list_unbnd_id_par[i, iter_par] = 1\n",
    "\n",
    "for i in range(num_S):\n",
    "    if np.sum(list_acr_id_par[i, :]) > 0:\n",
    "        list_acr_id[i] += 1\n",
    "    if np.prod(list_acr_id_par[i, :]) > 0:\n",
    "        list_acr_id[i] += 1\n",
    "    if np.sum(list_unbnd_id_par[i, :]) > 0:\n",
    "        list_unbnd_id[i] += 1\n",
    "    if np.prod(list_unbnd_id_par[i, :]) > 0:\n",
    "        list_unbnd_id[i] += 1\n",
    "    \n",
    "print(f\"======= DONE =======\")"
   ]
  },
  {
   "cell_type": "code",
   "execution_count": 351,
   "id": "36c1f4bd-b6ff-4b9c-af8c-e1b8be653a18",
   "metadata": {},
   "outputs": [
    {
     "name": "stdout",
     "output_type": "stream",
     "text": [
      "['A+B -> 2B', '2B -> A']\n",
      "latter_val_mat:\n",
      "[[0.1 0.  0.1 0.  0.  0.1 0.  0.  0.  0.  0.1 0.1]\n",
      " [0.1 0.  0.  0.  0.  0.1 0.  0.  0.  0.  0.  0.1]]\n",
      "final_val_mat:\n",
      "[[0. 0. 0. 0. 0. 0. 0. 0. 0. 0. 0. 0.]\n",
      " [0. 0. 0. 0. 0. 0. 0. 0. 0. 0. 0. 0.]]\n",
      "difference_mat:\n",
      "[[-0. -0. -0. -0. -0. -0. -0. -0. -0. -0. -0. -0.]\n",
      " [-0. -0. -0. -0. -0. -0. -0. -0. -0. -0. -0. -0.]]\n",
      "\n",
      "upp_val\n",
      "[[ 1.3000e-02  1.8000e-02  8.0000e-03  1.7000e-02  3.0590e+01  1.8000e-02\n",
      "   3.6000e-02]\n",
      " [ 1.2000e-02  1.5000e-02  1.3000e-02  1.2000e-02 -2.6343e+01  3.8000e-02\n",
      "   3.3000e-02]]\n",
      "low_val\n",
      "[[ 1.2000e-02  1.6000e-02  7.0000e-03  1.5000e-02  2.8306e+01  1.7000e-02\n",
      "   3.4000e-02]\n",
      " [ 1.0000e-02  1.3000e-02  1.2000e-02  1.1000e-02 -3.0158e+01  3.5000e-02\n",
      "   3.2000e-02]]\n",
      "diff_val\n",
      "[[2.000e-03 2.000e-03 0.000e+00 2.000e-03 2.284e+00 1.000e-03 1.000e-03]\n",
      " [1.000e-03 2.000e-03 1.000e-03 1.000e-03 3.814e+00 3.000e-03 1.000e-03]]\n",
      "\n",
      "list_acr_id_par:\n",
      "[[0 0 0 0 0 0 0]\n",
      " [0 0 0 0 0 0 0]]\n",
      "list_unbnd_id_par:\n",
      "[[0 0 0 0 1 0 0]\n",
      " [0 0 0 0 0 0 0]]\n",
      "list_acr_id:\n",
      "[0 0]\n",
      "list_unbnd_id:\n",
      "[1 0]\n",
      "\n",
      "kappa\n",
      "[[7.48946941 6.02331812 8.92488506 7.57072009 0.64330987 4.03784556\n",
      "  3.01607645]\n",
      " [5.65169925 4.71552335 3.94617569 6.60717826 9.30436908 1.4450691\n",
      "  2.13555147]]\n"
     ]
    }
   ],
   "source": [
    "print(acr.crn_writing(source_mat, product_mat)[1])\n",
    "print(\"latter_val_mat:\")\n",
    "print(np.round(latter_val_mat[:, range(12)], 1))\n",
    "print(\"final_val_mat:\")\n",
    "print(np.round(final_val_mat[:, range(12)], 1))\n",
    "print(\"difference_mat:\")\n",
    "print(np.round(final_val_mat[:, range(12)]-latter_val_mat[:, range(12)], 1))\n",
    "\n",
    "print(\"\\nupp_val\")\n",
    "print(np.round(upp_val, 3))\n",
    "print(\"low_val\")\n",
    "print(np.round(low_val, 3))\n",
    "print(\"diff_val\")\n",
    "print(np.round(upp_val - low_val, 3))\n",
    "\n",
    "print(\"\\nlist_acr_id_par:\")\n",
    "print(list_acr_id_par)\n",
    "print(\"list_unbnd_id_par:\")\n",
    "print(list_unbnd_id_par)\n",
    "print(\"list_acr_id:\")\n",
    "print(list_acr_id)\n",
    "print(\"list_unbnd_id:\")\n",
    "print(list_unbnd_id)\n",
    "\n",
    "print(\"\\nkappa\")\n",
    "print(kappa1)"
   ]
  },
  {
   "cell_type": "code",
   "execution_count": 350,
   "id": "60a65507",
   "metadata": {},
   "outputs": [
    {
     "data": {
      "image/png": "[encoded data removed]",
      "text/plain": [
       "<Figure size 1200x400 with 3 Axes>"
      ]
     },
     "metadata": {},
     "output_type": "display_data"
    }
   ],
   "source": [
    "x_init_tmp = [17.87859346, 9.25049512] # np.random.uniform(low=lb_init, high=ub_init, size=num_S)\n",
    "x_init_tmp = np.random.uniform(low=lb_init, high=ub_init, size=num_S)\n",
    "kappa_tmp = [3.36308509, 9.89004494]\n",
    "kappa_tmp = np.random.uniform(low=lb_param, high=ub_param, size=num_R)\n",
    "tbin = 1\n",
    "t_eval_tmp = np.arange(tspan1[0], tspan1[1]+tbin, tbin)\n",
    "sol_tmp = solve_ivp(acr.MAK_rescaled, tspan1, x_init_tmp, args = (kappa_tmp, source_mat, stoi_mat), method='RK45', t_eval=t_eval_tmp)\n",
    "#sol_tmp = solve_ivp(acr.MAK_rescaled, tspan1, x_init_tmp, args = (kappa_tmp, source_mat, stoi_mat), method='RK45')\n",
    "#sol_tmp = sol1\n",
    "fig, ax = plt.subplots(1,3,figsize = (12, 4))\n",
    "\n",
    "fontSize = 12\n",
    "ax[0].plot(sol_tmp.t, sol_tmp.y[0])\n",
    "ax[0].set_xlabel('t', fontsize = fontSize)\n",
    "ax[0].set_ylabel('A(t)', fontsize = fontSize)\n",
    "#ax[0].margins(0)\n",
    "\n",
    "ax[1].plot(sol_tmp.t, sol_tmp.y[1])\n",
    "ax[1].set_xlabel('t', fontsize = fontSize)\n",
    "ax[1].set_ylabel('B(t)', fontsize = fontSize)\n",
    "\n",
    "ax[2].plot(sol_tmp.y[0], sol_tmp.y[1])\n",
    "ax[2].set_xlabel('A(t)', fontsize = fontSize)\n",
    "ax[2].set_ylabel('B(t)', fontsize = fontSize)\n",
    "\n",
    "#plt.subplots_adjust(vspace=3)\n",
    "fig.tight_layout() # Or equivalently,  \"plt.tight_layout()\"\n",
    "\n",
    "plt.show()"
   ]
  }
 ],
 "metadata": {
  "kernelspec": {
   "display_name": "Python 3 (ipykernel)",
   "language": "python",
   "name": "python3"
  },
  "language_info": {
   "codemirror_mode": {
    "name": "ipython",
    "version": 3
   },
   "file_extension": ".py",
   "mimetype": "text/x-python",
   "name": "python",
   "nbconvert_exporter": "python",
   "pygments_lexer": "ipython3",
   "version": "3.12.1"
  },
  "varInspector": {
   "cols": {
    "lenName": 16,
    "lenType": 16,
    "lenVar": 40
   },
   "kernels_config": {
    "python": {
     "delete_cmd_postfix": "",
     "delete_cmd_prefix": "del ",
     "library": "var_list.py",
     "varRefreshCmd": "print(var_dic_list())"
    },
    "r": {
     "delete_cmd_postfix": ") ",
     "delete_cmd_prefix": "rm(",
     "library": "var_list.r",
     "varRefreshCmd": "cat(var_dic_list()) "
    }
   },
   "oldHeight": 441.844,
   "position": {
    "height": "463.844px",
    "left": "1045px",
    "right": "20px",
    "top": "141px",
    "width": "325px"
   },
   "types_to_exclude": [
    "module",
    "function",
    "builtin_function_or_method",
    "instance",
    "_Feature"
   ],
   "varInspector_section_display": "block",
   "window_display": false
  }
 },
 "nbformat": 4,
 "nbformat_minor": 5
}
