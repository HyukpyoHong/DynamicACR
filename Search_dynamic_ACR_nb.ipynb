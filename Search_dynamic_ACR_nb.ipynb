{
 "cells": [
  {
   "cell_type": "code",
   "execution_count": 1,
   "id": "cc3b5196-6418-4169-88bb-a349ba7a6fc6",
   "metadata": {},
   "outputs": [],
   "source": [
    "import numpy as np\n",
    "import pandas as pd\n",
    "#import scipy\n",
    "from scipy.special import binom\n",
    "from scipy.integrate import solve_ivp\n",
    "import matplotlib.pyplot as plt\n",
    "# from scipy.stats import quantile\n",
    "# from itertools import combinations\n",
    "\n",
    "# Load source_ACR module\n",
    "# Assuming the relevant functions are defined in source_ACR_py.py\n",
    "import source_ACR_py as acr"
   ]
  },
  {
   "cell_type": "code",
   "execution_count": 4,
   "id": "9f2e54fb-3ee7-45ba-87f3-28bed3e97c23",
   "metadata": {},
   "outputs": [],
   "source": [
    "# Initialization\n",
    "eps_acr = 0.01\n",
    "thres_positive = 0.01\n",
    "num_S = 2\n",
    "max_order = 2\n",
    "num_R = 2\n",
    "source_mat = None\n",
    "product_mat = None\n",
    "stoi_mat = None"
   ]
  },
  {
   "cell_type": "code",
   "execution_count": 5,
   "id": "0b30a626-26b0-466d-9b25-f8748944f7fc",
   "metadata": {},
   "outputs": [],
   "source": [
    "num_total_C = int(binom(max_order + num_S, num_S))\n",
    "# num_total_C = binomial(max_order + num_S, num_S)\n",
    "total_complex = acr.make_total_complexes(num_S, max_order).astype(int)\n",
    "\n",
    "num_total_R = num_total_C * (num_total_C - 1)\n",
    "num_total_net = int(binom(num_total_R, num_R))\n",
    "\n",
    "num_repeat_net = num_total_net\n",
    "num_repeat_par = 5\n",
    "num_repeat_init = 20\n",
    "matrix_R_id = np.zeros((num_R, num_repeat_net), dtype=int)\n",
    "list_acr_id = np.zeros((num_S, num_repeat_net), dtype=int)\n",
    "list_unbnd_id = np.zeros((num_S, num_repeat_net), dtype=int)"
   ]
  },
  {
   "cell_type": "code",
   "execution_count": 6,
   "id": "e6ef8123-a202-45d5-acd2-ae883c800b89",
   "metadata": {},
   "outputs": [
    {
     "name": "stdout",
     "output_type": "stream",
     "text": [
      "======= Analyzing network    1 =======\n",
      "======= Analyzing network   11 =======\n",
      "======= Analyzing network   21 =======\n",
      "======= Analyzing network   31 =======\n",
      "======= Analyzing network   41 =======\n",
      "======= Analyzing network   51 =======\n",
      "======= Analyzing network   61 =======\n",
      "======= Analyzing network   71 =======\n",
      "======= Analyzing network   81 =======\n",
      "======= Analyzing network   91 =======\n",
      "======= Analyzing network  101 =======\n",
      "======= Analyzing network  111 =======\n",
      "======= Analyzing network  121 =======\n",
      "======= Analyzing network  131 =======\n",
      "======= Analyzing network  141 =======\n",
      "======= Analyzing network  151 =======\n",
      "======= Analyzing network  161 =======\n",
      "======= Analyzing network  171 =======\n",
      "======= Analyzing network  181 =======\n",
      "======= Analyzing network  191 =======\n",
      "======= Analyzing network  201 =======\n",
      "======= Analyzing network  211 =======\n",
      "======= Analyzing network  221 =======\n",
      "======= Analyzing network  231 =======\n",
      "======= Analyzing network  241 =======\n",
      "======= Analyzing network  251 =======\n",
      "======= Analyzing network  261 =======\n",
      "======= Analyzing network  271 =======\n",
      "======= Analyzing network  281 =======\n",
      "======= Analyzing network  291 =======\n",
      "======= Analyzing network  301 =======\n",
      "======= Analyzing network  311 =======\n",
      "======= Analyzing network  321 =======\n",
      "======= Analyzing network  331 =======\n",
      "======= Analyzing network  341 =======\n",
      "======= Analyzing network  351 =======\n",
      "======= Analyzing network  361 =======\n",
      "======= Analyzing network  371 =======\n",
      "======= Analyzing network  381 =======\n",
      "======= Analyzing network  391 =======\n",
      "======= Analyzing network  401 =======\n",
      "======= Analyzing network  411 =======\n",
      "======= Analyzing network  421 =======\n",
      "======= Analyzing network  431 =======\n"
     ]
    }
   ],
   "source": [
    "# Beginning of the random network search\n",
    "rnd_search = False\n",
    "#for net_id in range(1000, 1002):\n",
    "for net_id in range(1, num_total_net+1):\n",
    "    if net_id % 10 == 1:\n",
    "        print(f\"======= Analyzing network {net_id:4} =======\")\n",
    "\n",
    "    if rnd_search:\n",
    "        list_R_id = np.random.choice(range(1, num_total_R + 1), num_R, replace=False)\n",
    "    else:\n",
    "        list_R_id = acr.net_id_to_r_id_list(net_id, num_total_R, num_R)\n",
    "\n",
    "    list_source_id, list_product_id = zip(*[acr.reaction_to_complex(r_id, num_total_C) for r_id in list_R_id])\n",
    "    source_mat = total_complex[:, np.array(list_source_id)-1]\n",
    "    product_mat = total_complex[:, np.array(list_product_id)-1]\n",
    "    stoi_mat = product_mat - source_mat\n",
    "\n",
    "    # Simulation settings\n",
    "    #kappa1 = np.random.uniform(low=0.0, high=10.0, size=num_R)\n",
    "    #x_init = np.random.uniform(low=1.0, high=20.0, size=num_S)\n",
    "    tspan1 = (0.0, 50.0)\n",
    "\n",
    "    ub_param = 10 * np.ones(num_R)\n",
    "    lb_param = np.zeros(num_R)\n",
    "\n",
    "    ub_init = 20 * np.ones(num_S)\n",
    "    lb_init = np.ones(num_S)\n",
    "\n",
    "    list_acr_id_par = np.zeros((num_S, num_repeat_par), dtype=int)\n",
    "    list_unbnd_id_par = np.zeros((num_S, num_repeat_par), dtype=int)\n",
    "\n",
    "    for iter_par in range(1, num_repeat_par + 1):\n",
    "        kappa1 = np.random.uniform(low=lb_param, high=ub_param, size=num_R)\n",
    "        final_val_mat = np.zeros((num_S, num_repeat_init))\n",
    "        latter_val_mat = np.zeros((num_S, num_repeat_init))\n",
    "\n",
    "        for iter_init in range(1, num_repeat_init + 1):\n",
    "            x_init = np.random.uniform(low=lb_init, high=ub_init, size=num_S)\n",
    "            t_eval = np.arange(tspan1[0], tspan1[1]+1, 1)\n",
    "            sol1 = solve_ivp(MAK_rescaled, tspan1, x_init, args = (kappa1, source_mat, stoi_mat), method='RK45', t_eval=t_eval)\n",
    "            sol_mat1 = sol1.y.T\n",
    "            length_tspan = sol_mat1.shape[0]\n",
    "            final_val_mat[:, iter_init - 1] = sol_mat1[length_tspan - 1, :]\n",
    "\n",
    "            if int(np.floor(0.8 * length_tspan)) >= 1:\n",
    "                latter_val_mat[:, iter_init - 1] = sol_mat1[int(np.floor(0.8 * length_tspan)), :]\n",
    "\n",
    "        upp_val = np.array([np.quantile(final_val_mat[i, :], 0.6) for i in range(num_S)])\n",
    "        low_val = np.array([np.quantile(final_val_mat[i, :], 0.4) for i in range(num_S)])\n",
    "\n",
    "        for i in range(num_S):\n",
    "            if upp_val[i] - low_val[i] < eps_acr and low_val[i] > thres_positive:\n",
    "                list_acr_id_par[i, iter_par - 1] = 1\n",
    "            if np.mean(latter_val_mat[i, :]) > ub_init[i] and np.mean(final_val_mat[i, :]) > np.mean(latter_val_mat[i, :]) + 2:\n",
    "                list_unbnd_id_par[i, iter_par - 1] = 1\n",
    "\n",
    "    for i in range(num_S):\n",
    "        if np.sum(list_acr_id_par[i, :]) > 0:\n",
    "            list_acr_id[i, net_id - 1] += 1\n",
    "        if np.prod(list_acr_id_par[i, :]) > 0:\n",
    "            list_acr_id[i, net_id - 1] += 1\n",
    "        if np.sum(list_unbnd_id_par[i, :]) > 0:\n",
    "            list_unbnd_id[i, net_id - 1] += 1\n",
    "        if np.prod(list_unbnd_id_par[i, :]) > 0:\n",
    "            list_unbnd_id[i, net_id - 1] += 1\n",
    "\n",
    "    matrix_R_id[:, net_id - 1] = list_R_id"
   ]
  },
  {
   "cell_type": "code",
   "execution_count": 7,
   "id": "577e3f08-a4ba-4916-878f-d796e71beb41",
   "metadata": {},
   "outputs": [],
   "source": [
    "# Convert arrays to pandas DataFrames and save to CSV files\n",
    "# We take the transpose to make the data fit the Excel program capacity.\n",
    "list_acr_id_df = pd.DataFrame(list_acr_id).transpose()\n",
    "list_unbnd_id_df = pd.DataFrame(list_unbnd_id).transpose()\n",
    "matrix_R_id_df = pd.DataFrame(matrix_R_id).transpose()\n",
    "\n",
    "path = \"/Users/hyukpyohong/Dropbox/CRN_dynamicACR/Codes/data/\"\n",
    "list_acr_id_df.to_csv(path + f\"python_list_acr_id_S{num_S}R{num_R}_max_ord{max_order}.csv\", header=False, index=False)\n",
    "list_unbnd_id_df.to_csv(path + f\"python_list_unbnd_id_S{num_S}R{num_R}_max_ord{max_order}.csv\", header=False, index=False)\n",
    "matrix_R_id_df.to_csv(path + f\"python_matrix_R_id_S{num_S}R{num_R}_max_ord{max_order}.csv\", header=False, index=False)"
   ]
  },
  {
   "cell_type": "code",
   "execution_count": null,
   "id": "df968ee8",
   "metadata": {},
   "outputs": [],
   "source": [
    "### ==========  The code below is just temporary test code  ============"
   ]
  },
  {
   "cell_type": "code",
   "execution_count": 12,
   "id": "815ce2ab-ae4c-4ded-99e0-f6d4f4b978e5",
   "metadata": {},
   "outputs": [
    {
     "name": "stdout",
     "output_type": "stream",
     "text": [
      "[38.36005279  7.74667789  2.79086954]\n",
      "[[0 1 2]\n",
      " [0 0 0]\n",
      " [0 0 0]]\n",
      "[[1 0 1]\n",
      " [0 2 0]\n",
      " [0 0 1]]\n",
      "[27.82250536 15.49335578  2.79086954]\n"
     ]
    }
   ],
   "source": [
    "#acr.make_total_complexes(num_S, max_order)\n",
    "# sss=acr.make_total_complexes(num_S, max_order).astype(int)\n",
    "#matrix_R_id\n",
    "#list_acr_id\n",
    "#list_unbnd_id\n",
    "#total_complex\n",
    "#print(source_mat)\n",
    "ff = np.power(source_mat[:,2], source_mat[:,2])\n",
    "rr = kappa1 * ff\n",
    "print(rr)\n",
    "print(source_mat)\n",
    "print(product_mat)\n",
    "print(np.matmul(stoi_mat, rr))"
   ]
  },
  {
   "cell_type": "code",
   "execution_count": 13,
   "id": "36c1f4bd-b6ff-4b9c-af8c-e1b8be653a18",
   "metadata": {},
   "outputs": [
    {
     "name": "stdout",
     "output_type": "stream",
     "text": [
      "[0.84393586 0.46995763 0.08465503]\n",
      "['0 -> A', 'A -> 2B', '2A -> A+C']\n"
     ]
    }
   ],
   "source": [
    "dx_vec = np.matmul(stoi_mat, rr)\n",
    "dx_vec = dx_vec / (1 + np.sqrt(np.sum(dx_vec**2)))\n",
    "print(dx_vec)\n",
    "print(acr.crn_writing(source_mat, product_mat)[1])\n",
    "#print(acr.crn_writing(source_mat, product_mat))\n",
    "#acr.crn_embedding(source_mat, product_mat)\n",
    "#sol1.y.T.shape\n",
    "#sol1.t"
   ]
  },
  {
   "cell_type": "code",
   "execution_count": 51,
   "id": "6e34974d-73c2-486b-b7ad-252a9ba632f6",
   "metadata": {},
   "outputs": [],
   "source": [
    "t_eval = np.arange(tspan1[0], tspan1[1], 0.1)\n",
    "#print(t_eval)"
   ]
  },
  {
   "cell_type": "code",
   "execution_count": 40,
   "id": "2c7de9a1-3e45-4ad5-8e38-98ccbf70defd",
   "metadata": {},
   "outputs": [
    {
     "data": {
      "image/png": "[encoded data removed]",
      "text/plain": [
       "<Figure size 1200x400 with 1 Axes>"
      ]
     },
     "metadata": {},
     "output_type": "display_data"
    }
   ],
   "source": [
    "sol1 = solve_ivp(MAK_rescaled, tspan1, x_init, args = (kappa1, source_mat, stoi_mat), method='RK45', t_eval=t_eval)\n",
    "plt.figure(figsize = (12, 4))\n",
    "plt.subplot(121)\n",
    "#print(sol1.t)\n",
    "#print(sol1.y[0])\n",
    "#plt.plot(sol1.t, sol1.y[1])\n",
    "plt.plot(sol1.y[0], sol1.y[1])\n",
    "plt.xlabel('t')\n",
    "plt.ylabel('S(t)')\n",
    "plt.show()\n",
    "\n",
    "# (kappa1, source_mat, stoi_mat)\n",
    "#sol1.t"
   ]
  },
  {
   "cell_type": "code",
   "execution_count": 41,
   "id": "1cc7fed9-87e0-4537-82cf-d34455277336",
   "metadata": {},
   "outputs": [
    {
     "data": {
      "image/png": "[encoded data removed]",
      "text/plain": [
       "<Figure size 1200x400 with 1 Axes>"
      ]
     },
     "metadata": {},
     "output_type": "display_data"
    }
   ],
   "source": [
    "sol1 = solve_ivp(MAK, tspan1, x_init, args = (kappa1, source_mat, stoi_mat), method='RK45', t_eval=t_eval)\n",
    "plt.figure(figsize = (12, 4))\n",
    "plt.subplot(121)\n",
    "#print(sol1.t)\n",
    "#print(sol1.y[0])\n",
    "#plt.plot(sol1.t, sol1.y[0])\n",
    "plt.plot(sol1.y[0], sol1.y[1])\n",
    "plt.xlabel('t')\n",
    "plt.ylim([0,40])\n",
    "plt.ylabel('S(t)')\n",
    "\n",
    "plt.show()\n",
    "\n",
    "# (kappa1, source_mat, stoi_mat)\n",
    "#sol1.t"
   ]
  }
 ],
 "metadata": {
  "kernelspec": {
   "display_name": "Python 3 (ipykernel)",
   "language": "python",
   "name": "python3"
  },
  "language_info": {
   "codemirror_mode": {
    "name": "ipython",
    "version": 3
   },
   "file_extension": ".py",
   "mimetype": "text/x-python",
   "name": "python",
   "nbconvert_exporter": "python",
   "pygments_lexer": "ipython3",
   "version": "3.12.1"
  },
  "varInspector": {
   "cols": {
    "lenName": 16,
    "lenType": 16,
    "lenVar": 40
   },
   "kernels_config": {
    "python": {
     "delete_cmd_postfix": "",
     "delete_cmd_prefix": "del ",
     "library": "var_list.py",
     "varRefreshCmd": "print(var_dic_list())"
    },
    "r": {
     "delete_cmd_postfix": ") ",
     "delete_cmd_prefix": "rm(",
     "library": "var_list.r",
     "varRefreshCmd": "cat(var_dic_list()) "
    }
   },
   "oldHeight": 441.844,
   "position": {
    "height": "463.844px",
    "left": "1045px",
    "right": "20px",
    "top": "141px",
    "width": "325px"
   },
   "types_to_exclude": [
    "module",
    "function",
    "builtin_function_or_method",
    "instance",
    "_Feature"
   ],
   "varInspector_section_display": "block",
   "window_display": false
  }
 },
 "nbformat": 4,
 "nbformat_minor": 5
}
