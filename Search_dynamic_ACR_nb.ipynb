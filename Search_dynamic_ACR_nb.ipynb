{
 "cells": [
  {
   "cell_type": "code",
   "execution_count": 264,
   "id": "cc3b5196-6418-4169-88bb-a349ba7a6fc6",
   "metadata": {},
   "outputs": [],
   "source": [
    "import numpy as np\n",
    "import pandas as pd\n",
    "#import scipy\n",
    "from scipy.special import binom\n",
    "from scipy.integrate import solve_ivp\n",
    "import matplotlib.pyplot as plt\n",
    "# from scipy.stats import quantile\n",
    "# from itertools import combinations\n",
    "\n",
    "# Load source_ACR module\n",
    "# Assuming the relevant functions are defined in source_ACR.py\n",
    "import source_ACR_py as acr"
   ]
  },
  {
   "cell_type": "code",
   "execution_count": 233,
   "id": "9f2e54fb-3ee7-45ba-87f3-28bed3e97c23",
   "metadata": {},
   "outputs": [],
   "source": [
    "# Initialization\n",
    "eps_acr = 0.01\n",
    "thres_positive = 0.01\n",
    "num_S = 3\n",
    "max_order = 2\n",
    "num_R = 3\n",
    "source_mat = None\n",
    "product_mat = None\n",
    "stoi_mat = None"
   ]
  },
  {
   "cell_type": "code",
   "execution_count": 355,
   "id": "0b30a626-26b0-466d-9b25-f8748944f7fc",
   "metadata": {},
   "outputs": [],
   "source": [
    "def MAK(t, x, kappa, source_mat, stoi_mat):\n",
    "    f = np.zeros(len(kappa1))\n",
    "    for i in range(len(kappa1)):\n",
    "        f[i] = np.prod(np.power(x, source_mat[:,i]))\n",
    "    r = kappa * f\n",
    "    dx_vec = np.matmul(stoi_mat, r)\n",
    "    return dx_vec\n",
    "\n",
    "def MAK_rsc(t, x, kappa, source_mat, stoi_mat):\n",
    "    f = np.zeros(len(kappa1))\n",
    "    for i in range(len(kappa1)):\n",
    "        f[i] = np.prod(np.power(x, source_mat[:,i]))\n",
    "    r = kappa * f\n",
    "    dx_vec = np.matmul(stoi_mat, r)\n",
    "    dx_vec_rsc = dx_vec / (1 + np.sqrt(np.sum(dx_vec**2)))\n",
    "    return dx_vec_rsc\n",
    "\n",
    "\n",
    "num_total_C = int(scipy.special.binom(max_order + num_S, num_S))\n",
    "# num_total_C = binomial(max_order + num_S, num_S)\n",
    "total_complex = acr.make_total_complexes(num_S, max_order).astype(int)\n",
    "\n",
    "num_total_R = num_total_C * (num_total_C - 1)\n",
    "num_total_net = int(scipy.special.binom(num_total_R, num_R))\n",
    "\n",
    "num_repeat_net = num_total_net\n",
    "num_repeat_par = 5\n",
    "num_repeat_init = 20\n",
    "matrix_R_id = np.zeros((num_R, num_repeat_net), dtype=int)\n",
    "list_acr_id = np.zeros((num_S, num_repeat_net), dtype=int)\n",
    "list_unbnd_id = np.zeros((num_S, num_repeat_net), dtype=int)"
   ]
  },
  {
   "cell_type": "code",
   "execution_count": 383,
   "id": "2a14d88b-11af-4e85-8b01-bc9cf42b8236",
   "metadata": {},
   "outputs": [
    {
     "name": "stdout",
     "output_type": "stream",
     "text": [
      "(3,)\n",
      "(3,)\n",
      "[5.89112267 4.19076832 8.96571989]\n",
      "[[1 0 1]\n",
      " [0 2 0]\n",
      " [0 0 1]]\n",
      "[-7.26536553  8.38153663  8.96571989]\n",
      "[-0.47602622  0.54915767  0.58743331]\n",
      "['0 -> A', 'A -> 2B', '2A -> A+C']\n",
      "[ 0.  1.  2.  3.  4.  5.  6.  7.  8.  9. 10. 11. 12. 13. 14. 15. 16. 17.\n",
      " 18. 19. 20. 21. 22. 23. 24. 25. 26. 27. 28. 29. 30. 31. 32. 33. 34. 35.\n",
      " 36. 37. 38. 39. 40. 41. 42. 43. 44. 45. 46. 47. 48. 49. 50.]\n"
     ]
    },
    {
     "data": {
      "image/png": "[encoded data removed]",
      "text/plain": [
       "<Figure size 1200x400 with 1 Axes>"
      ]
     },
     "metadata": {},
     "output_type": "display_data"
    }
   ],
   "source": [
    "#acr.make_total_complexes(num_S, max_order)\n",
    "# sss=acr.make_total_complexes(num_S, max_order).astype(int)\n",
    "#matrix_R_id\n",
    "#list_acr_id\n",
    "#list_unbnd_id\n",
    "#total_complex\n",
    "#print(source_mat)\n",
    "ff = np.power(source_mat[:,2], source_mat[:,2])\n",
    "#print(ff)\n",
    "#print(ff*ff)\n",
    "print(np.zeros(3).shape)\n",
    "print(kappa1.shape)\n",
    "rr = kappa1 * ff\n",
    "print(rr)\n",
    "print(product_mat)\n",
    "print(np.matmul(stoi_mat, rr))\n",
    "dx_vec=np.matmul(stoi_mat, rr)\n",
    "dx_vec = dx_vec / (1 + np.sqrt(np.sum(dx_vec**2)))\n",
    "print(dx_vec)\n",
    "print(acr.crn_writing(source_mat, product_mat)[1])\n",
    "#print(acr.crn_writing(source_mat, product_mat))\n",
    "#acr.crn_embedding(source_mat, product_mat)\n",
    "#sol1.y.T.shape\n",
    "#sol1.t\n",
    "\n",
    "sol1 = solve_ivp(MAK, tspan1, x_init, args = (kappa1, source_mat, stoi_mat), method='RK45', t_eval=t_eval)\n",
    "plt.figure(figsize = (12, 4))\n",
    "plt.subplot(121)\n",
    "print(sol1.t)\n",
    "plt.plot(sol1.t, sol1.y[0])\n",
    "plt.xlabel('t')\n",
    "plt.ylabel('S(t)')\n",
    "plt.show()\n",
    "\n",
    "# (kappa1, source_mat, stoi_mat)\n",
    "#sol1.t"
   ]
  },
  {
   "cell_type": "code",
   "execution_count": 377,
   "id": "e6ef8123-a202-45d5-acd2-ae883c800b89",
   "metadata": {},
   "outputs": [
    {
     "name": "stdout",
     "output_type": "stream",
     "text": [
      "======= Analyzing network 1001 =======\n"
     ]
    }
   ],
   "source": [
    "# Beginning of the random network search\n",
    "rnd_search = False\n",
    "for iter_network in range(1000, 1002):\n",
    "    if iter_network % 10 == 1:\n",
    "        print(f\"======= Analyzing network {iter_network:4} =======\")\n",
    "\n",
    "    if rnd_search:\n",
    "        list_R_id = np.random.choice(range(1, num_total_R + 1), num_R, replace=False)\n",
    "    else:\n",
    "        list_R_id = acr.net_id_to_r_id_list(iter_network, num_total_R, num_R)\n",
    "\n",
    "    list_source_id, list_product_id = zip(*[acr.reaction_to_complex(r_id, num_total_C) for r_id in list_R_id])\n",
    "    source_mat = total_complex[:, np.array(list_source_id)-1]\n",
    "    product_mat = total_complex[:, np.array(list_product_id)-1]\n",
    "    stoi_mat = product_mat - source_mat\n",
    "\n",
    "    # Simulation settings\n",
    "    #kappa1 = np.random.uniform(low=0.0, high=10.0, size=num_R)\n",
    "    #x_init = np.random.uniform(low=1.0, high=20.0, size=num_S)\n",
    "    tspan1 = (0.0, 50.0)\n",
    "\n",
    "    ub_param = 10 * np.ones(num_R)\n",
    "    lb_param = np.zeros(num_R)\n",
    "\n",
    "    ub_init = 20 * np.ones(num_S)\n",
    "    lb_init = np.ones(num_S)\n",
    "\n",
    "    list_acr_id_par = np.zeros((num_S, num_repeat_par), dtype=int)\n",
    "    list_unbnd_id_par = np.zeros((num_S, num_repeat_par), dtype=int)\n",
    "\n",
    "    for iter_par in range(1, num_repeat_par + 1):\n",
    "        kappa1 = np.random.uniform(low=lb_param, high=ub_param, size=num_R)\n",
    "        final_val_mat = np.zeros((num_S, num_repeat_init))\n",
    "        latter_val_mat = np.zeros((num_S, num_repeat_init))\n",
    "\n",
    "        for iter_init in range(1, num_repeat_init + 1):\n",
    "            x_init = np.random.uniform(low=lb_init, high=ub_init, size=num_S)\n",
    "            t_eval = np.arange(tspan1[0], tspan1[1]+1, 1)\n",
    "            sol1 = solve_ivp(MAK_rsc, tspan1, x_init, args = (kappa1, source_mat, stoi_mat), method='RK45', t_eval=t_eval)\n",
    "            sol_mat1 = sol1.y.T\n",
    "            length_tspan = sol_mat1.shape[0]\n",
    "            final_val_mat[:, iter_init - 1] = sol_mat1[length_tspan - 1, :]\n",
    "\n",
    "            if int(np.floor(0.8 * length_tspan)) >= 1:\n",
    "                latter_val_mat[:, iter_init - 1] = sol_mat1[int(np.floor(0.8 * length_tspan)), :]\n",
    "\n",
    "        upp_val = np.array([np.quantile(final_val_mat[i, :], 0.6) for i in range(num_S)])\n",
    "        low_val = np.array([np.quantile(final_val_mat[i, :], 0.4) for i in range(num_S)])\n",
    "\n",
    "        for i in range(num_S):\n",
    "            if upp_val[i] - low_val[i] < eps_acr and low_val[i] > thres_positive:\n",
    "                list_acr_id_par[i, iter_par - 1] = 1\n",
    "            if np.mean(latter_val_mat[i, :]) > ub_init[i] and np.mean(final_val_mat[i, :]) > np.mean(latter_val_mat[i, :]) + 2:\n",
    "                list_unbnd_id_par[i, iter_par - 1] = 1\n",
    "\n",
    "    for i in range(num_S):\n",
    "        if np.sum(list_acr_id_par[i, :]) > 0:\n",
    "            list_acr_id[i, iter_network - 1] += 1\n",
    "        if np.prod(list_acr_id_par[i, :]) > 0:\n",
    "            list_acr_id[i, iter_network - 1] += 1\n",
    "        if np.sum(list_unbnd_id_par[i, :]) > 0:\n",
    "            list_unbnd_id[i, iter_network - 1] += 1\n",
    "        if np.prod(list_unbnd_id_par[i, :]) > 0:\n",
    "            list_unbnd_id[i, iter_network - 1] += 1\n",
    "\n",
    "    matrix_R_id[:, iter_network - 1] = list_R_id"
   ]
  },
  {
   "cell_type": "code",
   "execution_count": 182,
   "id": "577e3f08-a4ba-4916-878f-d796e71beb41",
   "metadata": {},
   "outputs": [],
   "source": [
    "# Convert arrays to pandas DataFrames and save to CSV files\n",
    "list_acr_id_df = pd.DataFrame(list_acr_id)\n",
    "list_unbnd_id_df = pd.DataFrame(list_unbnd_id)\n",
    "matrix_R_id_df = pd.DataFrame(matrix_R_id)\n",
    "\n",
    "path = \"/Users/hyukpyohong/Dropbox/CRN_dynamicACR/Codes/data/\"\n",
    "list_acr_id_df.to_csv(path + f\"python_list_acr_id_S{num_S}R{num_R}_max_ord{max_order}.csv\", header=False, index=False)\n",
    "list_unbnd_id_df.to_csv(path + f\"python_list_unbnd_id_S{num_S}R{num_R}_max_ord{max_order}.csv\", header=False, index=False)\n",
    "matrix_R_id_df.to_csv(path + f\"python_matrix_R_id_S{num_S}R{num_R}_max_ord{max_order}.csv\", header=False, index=False)"
   ]
  }
 ],
 "metadata": {
  "kernelspec": {
   "display_name": "Python 3 (ipykernel)",
   "language": "python",
   "name": "python3"
  },
  "language_info": {
   "codemirror_mode": {
    "name": "ipython",
    "version": 3
   },
   "file_extension": ".py",
   "mimetype": "text/x-python",
   "name": "python",
   "nbconvert_exporter": "python",
   "pygments_lexer": "ipython3",
   "version": "3.12.1"
  }
 },
 "nbformat": 4,
 "nbformat_minor": 5
}
