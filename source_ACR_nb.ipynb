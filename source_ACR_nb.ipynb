{
 "cells": [
  {
   "cell_type": "code",
   "execution_count": 51,
   "id": "0dae220b",
   "metadata": {},
   "outputs": [],
   "source": [
    "import numpy as np\n",
    "import matplotlib.pyplot as plt\n",
    "from scipy.special import binom\n",
    "from mpl_toolkits.mplot3d import Axes3D\n",
    "\n",
    "def crn_writing(source_mat, product_mat):\n",
    "    num_S, num_R = source_mat.shape\n",
    "\n",
    "    source_txt = [\"\"] * num_R\n",
    "    product_txt = [\"\"] * num_R\n",
    "    source_txt_short = [\"\"] * num_R\n",
    "    product_txt_short = [\"\"] * num_R\n",
    "    network_txt = [\"\"] * num_R\n",
    "    network_txt_short = [\"\"] * num_R\n",
    "\n",
    "    for i in range(num_R):\n",
    "        plus_flag_source = 0 # flag variable for source complexes to decide adding \"+\" symbol in strings\n",
    "        plus_flag_product = 0 # flag variable for product complexes to decide adding \"+\" symbol in strings\n",
    "        for j in range(num_S):\n",
    "            # create a long version of strings, e.g., 0A+3B+1C\n",
    "            source_txt[i] += str(source_mat[j, i]) + chr(64 + j + 1)\n",
    "            product_txt[i] += str(product_mat[j, i]) + chr(64 + j + 1)\n",
    "            if j < num_S - 1:\n",
    "                source_txt[i] += \"+\"\n",
    "                product_txt[i] += \"+\"\n",
    "            \n",
    "            # create a short version of strings, e.g., 3B+C instead of 0A+3B+1C \n",
    "            if source_mat[j, i] > 1:\n",
    "                source_txt_short[i] += str(source_mat[j, i]) + chr(64 + j + 1)\n",
    "                plus_flag_source = 1\n",
    "            elif source_mat[j, i] == 1:\n",
    "                source_txt_short[i] += chr(64 + j + 1)\n",
    "                plus_flag_source = 1\n",
    "                # omit \"1\" for the coefficient, i.e., use \"A\" instead of \"1A\"\n",
    "\n",
    "            if product_mat[j, i] > 1:\n",
    "                product_txt_short[i] += str(product_mat[j, i]) + chr(64 + j + 1)\n",
    "                plus_flag_product = 1\n",
    "            elif product_mat[j, i] == 1:\n",
    "                product_txt_short[i] += chr(64 + j + 1)\n",
    "                plus_flag_product = 1\n",
    "                # omit \"1\" for the coefficient, i.e., use \"A\" instead of \"1A\"\n",
    "\n",
    "            if np.sum(source_mat[j + 1:, i]) > 0 and plus_flag_source > 0:\n",
    "                source_txt_short[i] += \"+\" # add \"+\" symbol if there is anything else to add. \n",
    "                plus_flag_source = 0\n",
    "\n",
    "            if np.sum(product_mat[j + 1:, i]) > 0 and plus_flag_product > 0:\n",
    "                product_txt_short[i] += \"+\" # add \"+\" symbol if there is anything else to add. \n",
    "                plus_flag_product = 0\n",
    "\n",
    "        if source_txt_short[i] == \"\":\n",
    "            source_txt_short[i] = \"0\" \n",
    "            # add \"0\" if the source complex of a reaction is the zero complex.\n",
    "\n",
    "        if product_txt_short[i] == \"\":\n",
    "            product_txt_short[i] = \"0\" \n",
    "            # add \"0\" if the source complex of a reaction is the zero complex.\n",
    "\n",
    "    network_txt = [f\"{source} -> {product}\" for source, product in zip(source_txt, product_txt)]\n",
    "    network_txt_short = [f\"{source} -> {product}\" for source, product in zip(source_txt_short, product_txt_short)]\n",
    "\n",
    "    return network_txt, network_txt_short\n",
    "\n",
    "def crn_embedding(source_mat, product_mat, shake=True):\n",
    "    num_S, num_R = source_mat.shape\n",
    "    maxlim = 2\n",
    "\n",
    "    if num_S == 2:\n",
    "        fig, ax = plt.subplots()\n",
    "        # ax.plot([0.0, maxlim], [0.0, maxlim])\n",
    "        for i in range(num_R):\n",
    "            if shake:\n",
    "                move = np.random.rand(num_S) * 0.1 - 0.05\n",
    "            else:\n",
    "                move = np.zeros(num_S)\n",
    "\n",
    "            ax.arrow(source_mat[0, i] + move[0], source_mat[1, i] + move[1],\n",
    "                     product_mat[0, i] - source_mat[0, i], product_mat[1, i] - source_mat[1, i],\n",
    "                     head_width=0.05, head_length=0.1, fc='black', ec='black', linewidth=1.5)\n",
    "    elif num_S == 3:\n",
    "        fig = plt.figure()\n",
    "        ax = fig.add_subplot(111, projection='3d')\n",
    "        ax.plot([0.0, maxlim], [0.0, maxlim], [0.0, maxlim])\n",
    "        for i in range(num_R):\n",
    "            if shake:\n",
    "                move = np.random.rand(num_S) * 0.1 - 0.05\n",
    "            else:\n",
    "                move = np.zeros(num_S)\n",
    "\n",
    "            ax.quiver(source_mat[0, i] + move[0], source_mat[1, i] + move[1], source_mat[2, i] + move[2],\n",
    "                      product_mat[0, i] - source_mat[0, i], product_mat[1, i] - source_mat[1, i],\n",
    "                      product_mat[2, i] - source_mat[2, i], color='black', linewidth=1.5)\n",
    "    else:\n",
    "        print(\"Visualization is possible only when the number of species is either 2 or 3. 'nothing' is returned\")\n",
    "        return None\n",
    "\n",
    "    # plt.show()\n",
    "    return fig, ax\n",
    "\n",
    "def crn_embedding_info(source_mat, product_mat, acr_id, unbnd_id, shake=True):\n",
    "    num_S, num_R = source_mat.shape\n",
    "    maxlim = 2\n",
    "    acr_id_tf = acr_id > 0\n",
    "    unbnd_id_tf = unbnd_id > 0\n",
    "    r = np.linalg.matrix_rank(product_mat - source_mat)\n",
    "\n",
    "    if num_S == 2:\n",
    "        text_id_acr = acr_id_tf[0] * 1 + acr_id_tf[1] * 2 + 1\n",
    "        acr_sp = [\"∅\", \"A\", \"B\", \"A,B\"][text_id_acr]\n",
    "        text_id_unbnd = unbnd_id_tf[0] * 1 + unbnd_id_tf[1] * 2 + 1\n",
    "        unbnd_sp = [\"∅\", \"A\", \"B\", \"A,B\"][text_id_unbnd]\n",
    "\n",
    "        fig, ax = plt.subplots()\n",
    "        ax.plot([0.0, maxlim], [0.0, maxlim])\n",
    "        for i in range(num_R):\n",
    "            if shake:\n",
    "                move = np.random.rand(num_S) * 0.1 - 0.05\n",
    "            else:\n",
    "                move = np.zeros(num_S)\n",
    "\n",
    "            ax.arrow(source_mat[0, i] + move[0], source_mat[1, i] + move[1],\n",
    "                     product_mat[0, i] - source_mat[0, i], product_mat[1, i] - source_mat[1, i],\n",
    "                     head_width=0.05, head_length=0.1, fc='black', ec='black', linewidth=1.5)\n",
    "\n",
    "        ax.annotate(f\"ACR: {acr_sp}\\nUnb: {unbnd_sp}\\ndim(S): {r}\", (1.25, 1.7), textcoords=\"offset points\", xytext=(0, 10), ha='center', fontsize=9)\n",
    "    elif num_S == 3:\n",
    "        text_id_acr = acr_id_tf[0] * 1 + acr_id_tf[1] * 2 + acr_id_tf[2] * 4 + 1\n",
    "        acr_sp = [\"∅\", \"A\", \"B\", \"A,B\", \"C\", \"A,C\", \"B,C\", \"A,B,C\"][text_id_acr]\n",
    "        text_id_unbnd = unbnd_id_tf[0] * 1 + unbnd_id_tf[1] * 2 + unbnd_id_tf[2] * 4 + 1\n",
    "        unbnd_sp = [\"∅\", \"A\", \"B\", \"A,B\", \"C\", \"A,C\", \"B,C\", \"A,B,C\"][text_id_unbnd]\n",
    "\n",
    "        fig = plt.figure()\n",
    "        ax = fig.add_subplot(111, projection='3d')\n",
    "        ax.plot([0.0, maxlim], [0.0, maxlim], [0.0, maxlim])\n",
    "        for i in range(num_R):\n",
    "            if shake:\n",
    "                move = np.random.rand(num_S) * 0.1 - 0.05\n",
    "            else:\n",
    "                move = np.zeros(num_S)\n",
    "\n",
    "            ax.quiver(source_mat[0, i] + move[0], source_mat[1, i] + move[1], source_mat[2, i] + move[2],\n",
    "                      product_mat[0, i] - source_mat[0, i], product_mat[1, i] - source_mat[1, i],\n",
    "                      product_mat[2, i] - source_mat[2, i], color='black', linewidth=1.5)\n",
    "\n",
    "        ax.text(1.7, 1.7, 1.7, f\"ACR: {acr_sp}\\nUnb: {unbnd_sp}\\ndim(S): {r}\", fontsize=9)\n",
    "    else:\n",
    "        print(\"Visualization is possible only when the number of species is either 2 or 3. 'nothing' is returned\")\n",
    "        return None\n",
    "\n",
    "    # plt.show()\n",
    "    return fig, ax\n",
    "\n",
    "def grouping_network(source_mat, product_mat, acr_id, unbnd_id):\n",
    "    num_S = source_mat.shape[0]\n",
    "    acr_id_tf = acr_id > 0\n",
    "    unbnd_id_tf = unbnd_id > 0\n",
    "    r = np.linalg.matrix_rank(product_mat - source_mat)\n",
    "    gp = None\n",
    "\n",
    "    if num_S == 2:\n",
    "        text_id_acr = acr_id_tf[0] * 1 + acr_id_tf[1] * 2 + 1\n",
    "        acr_sp = [\"∅\", \"A\", \"B\", \"A,B\"][text_id_acr]\n",
    "        text_id_unbnd = unbnd_id_tf[0] * 1 + unbnd_id_tf[1] * 2 + 1\n",
    "        unbnd_sp = [\"∅\", \"A\", \"B\", \"A,B\"][text_id_unbnd]\n",
    "\n",
    "        if text_id_acr == 1: # no ACR\n",
    "            gp = 1\n",
    "        elif text_id_acr == 2: # ACR species: A\n",
    "            gp = 4 * (r - 1) + text_id_unbnd + 1\n",
    "        elif text_id_acr == 3: # ACR species: B\n",
    "            gp = 4 * (r - 1) + text_id_unbnd + 9\n",
    "        else: # text_id_acr == 4 # ACR species: A, B\n",
    "            gp = 4 * (r - 1) + text_id_unbnd + 17\n",
    "    else:\n",
    "        print(\"Grouping network is currently possible only when the number of species is either 2. 'nothing' is returned\")\n",
    "        return None\n",
    "\n",
    "    return gp\n",
    "\n",
    "def make_total_complexes(num_S, max_order):\n",
    "    num_total_C = int(binom(max_order + num_S, num_S))\n",
    "    tmp_cmplx = np.zeros(num_S)\n",
    "    total_complex = np.zeros((num_S, num_total_C))\n",
    "\n",
    "    for i in range(num_total_C):\n",
    "        for j in range(num_S):\n",
    "            if np.sum(tmp_cmplx) > max_order:\n",
    "                tmp_cmplx[j] = 0\n",
    "                tmp_cmplx[j + 1] += 1\n",
    "        #total_complex[:, i] = tmp_cmplx.copy()\n",
    "        total_complex[:, i] = tmp_cmplx.copy()\n",
    "        tmp_cmplx[0] += 1\n",
    "        \n",
    "    return total_complex\n",
    "\n",
    "def reaction_to_complex(r_id, num_total_C):\n",
    "    source_id = int(np.floor((r_id - 1) / (num_total_C - 1))) + 1\n",
    "    product_id = int(np.mod((r_id - 1), (num_total_C - 1))) + 1\n",
    "\n",
    "    if source_id <= product_id:\n",
    "        product_id += 1\n",
    "\n",
    "    return source_id, product_id\n",
    "\n",
    "def net_id_to_r_id_list(net_id, num_total_R, num_R):\n",
    "    tmp_id = net_id\n",
    "    reaction_id_list = np.zeros(num_R, dtype=int) # the list contains the id for reaction r_1, r_2, ..., r_{num_R}.\n",
    "    # Those id's have to satisfy 1 <= r_1 < r_2 < ... < r_{num_R} <= num_total_R.\n",
    "\n",
    "    if net_id > binom(num_total_R, num_R) or net_id < 1:\n",
    "        print(\"The given network id must be between 1 and binom(num_total_R, num_R). 'nothing' is returned.\")\n",
    "        return None\n",
    "    # Determine the first reaction id, r_1.\n",
    "    for j in range(1, num_total_R - num_R + 2):\n",
    "        tmp_id -= binom(num_total_R - j, num_R - 1)\n",
    "\n",
    "        if tmp_id <= 0:\n",
    "            tmp_id += binom(num_total_R - j, num_R - 1)\n",
    "            reaction_id_list[0] = j\n",
    "            break\n",
    "    \n",
    "    # Determine the second to last reactions id, r_2, r_3, ... , r_{num_R}.\n",
    "    for i in range(2, num_R + 1):\n",
    "        for j in range(reaction_id_list[i - 2] + 1, num_total_R - num_R + i):\n",
    "            tmp_id -= binom(num_total_R - j, num_R - i)\n",
    "\n",
    "            if tmp_id <= 0:\n",
    "                tmp_id += binom(num_total_R - j, num_R - i)\n",
    "                reaction_id_list[i - 1] = j\n",
    "                break\n",
    "\n",
    "    return reaction_id_list"
   ]
  },
  {
   "cell_type": "code",
   "execution_count": 52,
   "id": "fa7d4935",
   "metadata": {},
   "outputs": [
    {
     "data": {
      "image/png": "[encoded data removed]",
      "text/plain": [
       "<Figure size 432x288 with 1 Axes>"
      ]
     },
     "metadata": {
      "needs_background": "light"
     },
     "output_type": "display_data"
    }
   ],
   "source": [
    "# Example usage:\n",
    "num_S = 2\n",
    "max_order = 2\n",
    "#source_mat = np.array([[0, 1], [1, 0], [2, 1]])\n",
    "#product_mat = np.array([[1, 0], [0, 1], [1, 1]])\n",
    "source_mat = np.array([[0, 1], [1, 0]])\n",
    "product_mat = np.array([[1, 0], [0, 1]])\n",
    "#acr_id = np.array([1, 0])\n",
    "#unbnd_id = np.array([1, 0])\n",
    "\n",
    "\n",
    "network_txt, network_txt_short = crn_writing(source_mat, product_mat)\n",
    "fig, ax = crn_embedding(source_mat, product_mat)\n",
    "#ax_info = crn_embedding_info(source_mat, product_mat, acr_id, unbnd_id)\n",
    "#gp = grouping_network(source_mat, product_mat, acr_id, unbnd_id)\n",
    "#print(f\"Grouping network: {gp}\")\n",
    "\n",
    "\n",
    "\n",
    "#total_complex = make_total_complexes(num_S, max_order)\n",
    "#source_id, product_id = reaction_to_complex(1, total_complex.shape[1])\n",
    "#reaction_id_list = net_id_to_r_id_list(1, total_complex.shape[1], num_R=2)"
   ]
  },
  {
   "cell_type": "code",
   "execution_count": 38,
   "id": "0ba2ee9a",
   "metadata": {},
   "outputs": [],
   "source": [
    "s=np.random.randn(3,4)"
   ]
  },
  {
   "cell_type": "code",
   "execution_count": 39,
   "id": "4a0426f3",
   "metadata": {},
   "outputs": [
    {
     "name": "stdout",
     "output_type": "stream",
     "text": [
      "[[ 0.96992387 -1.12805569  0.92972408 -0.49156585]\n",
      " [ 0.02653277 -0.60882968  0.33246046  0.79618594]\n",
      " [-0.9139001   0.03311336 -0.97329877  1.84617547]]\n"
     ]
    }
   ],
   "source": [
    "print(s)"
   ]
  },
  {
   "cell_type": "code",
   "execution_count": 53,
   "id": "5622f841",
   "metadata": {},
   "outputs": [],
   "source": [
    "arr = make_total_complexes(2,2)"
   ]
  },
  {
   "cell_type": "code",
   "execution_count": 54,
   "id": "50a7f153",
   "metadata": {},
   "outputs": [
    {
     "data": {
      "text/plain": [
       "array([[0., 1., 2., 0., 1., 0.],\n",
       "       [0., 0., 0., 1., 1., 2.]])"
      ]
     },
     "execution_count": 54,
     "metadata": {},
     "output_type": "execute_result"
    }
   ],
   "source": [
    "arr"
   ]
  },
  {
   "cell_type": "code",
   "execution_count": 55,
   "id": "9d3e2458",
   "metadata": {},
   "outputs": [
    {
     "data": {
      "text/plain": [
       "array([[0., 1., 2., 0., 1., 0.],\n",
       "       [0., 0., 0., 1., 1., 2.]])"
      ]
     },
     "execution_count": 55,
     "metadata": {},
     "output_type": "execute_result"
    }
   ],
   "source": [
    "arr.copy()"
   ]
  },
  {
   "cell_type": "code",
   "execution_count": 61,
   "id": "cea33ee2",
   "metadata": {},
   "outputs": [
    {
     "name": "stdout",
     "output_type": "stream",
     "text": [
      "[1, 2, 3, 4, 9]\n",
      "[1, 2, 3, 4, 9]\n"
     ]
    }
   ],
   "source": [
    "list1=[1,2,3,4]\n",
    "list2=list1\n",
    "list2.insert(4,9)\n",
    "print(list1)\n",
    "print(list2)"
   ]
  },
  {
   "cell_type": "code",
   "execution_count": 86,
   "id": "433203f0",
   "metadata": {},
   "outputs": [
    {
     "data": {
      "text/plain": [
       "False"
      ]
     },
     "execution_count": 86,
     "metadata": {},
     "output_type": "execute_result"
    }
   ],
   "source": [
    "b=[2]\n",
    "a=[2]\n",
    "a is b"
   ]
  },
  {
   "cell_type": "code",
   "execution_count": 109,
   "id": "9672fef2",
   "metadata": {},
   "outputs": [],
   "source": [
    "s=np.array([[1,2,3],[4,5,6]])"
   ]
  },
  {
   "cell_type": "code",
   "execution_count": 110,
   "id": "a3308bab",
   "metadata": {},
   "outputs": [
    {
     "data": {
      "text/plain": [
       "array([[1, 2, 3],\n",
       "       [4, 5, 6]])"
      ]
     },
     "execution_count": 110,
     "metadata": {},
     "output_type": "execute_result"
    }
   ],
   "source": [
    "s"
   ]
  },
  {
   "cell_type": "code",
   "execution_count": 118,
   "id": "dd24b7a3",
   "metadata": {},
   "outputs": [],
   "source": [
    "y=s[1]"
   ]
  },
  {
   "cell_type": "code",
   "execution_count": 124,
   "id": "d9f56302",
   "metadata": {},
   "outputs": [
    {
     "data": {
      "text/plain": [
       "False"
      ]
     },
     "execution_count": 124,
     "metadata": {},
     "output_type": "execute_result"
    }
   ],
   "source": [
    "y is s[1]"
   ]
  },
  {
   "cell_type": "code",
   "execution_count": 125,
   "id": "7d066d14",
   "metadata": {},
   "outputs": [],
   "source": [
    "y[1] = 2"
   ]
  },
  {
   "cell_type": "code",
   "execution_count": 126,
   "id": "99cd8f71",
   "metadata": {},
   "outputs": [
    {
     "data": {
      "text/plain": [
       "array([4, 2, 6])"
      ]
     },
     "execution_count": 126,
     "metadata": {},
     "output_type": "execute_result"
    }
   ],
   "source": [
    "y"
   ]
  },
  {
   "cell_type": "code",
   "execution_count": 127,
   "id": "679cc166",
   "metadata": {},
   "outputs": [
    {
     "data": {
      "text/plain": [
       "array([[1, 2, 3],\n",
       "       [4, 2, 6]])"
      ]
     },
     "execution_count": 127,
     "metadata": {},
     "output_type": "execute_result"
    }
   ],
   "source": [
    "s"
   ]
  },
  {
   "cell_type": "code",
   "execution_count": null,
   "id": "3768b44f",
   "metadata": {},
   "outputs": [],
   "source": []
  }
 ],
 "metadata": {
  "kernelspec": {
   "display_name": "Python 3 (ipykernel)",
   "language": "python",
   "name": "python3"
  },
  "language_info": {
   "codemirror_mode": {
    "name": "ipython",
    "version": 3
   },
   "file_extension": ".py",
   "mimetype": "text/x-python",
   "name": "python",
   "nbconvert_exporter": "python",
   "pygments_lexer": "ipython3",
   "version": "3.9.7"
  }
 },
 "nbformat": 4,
 "nbformat_minor": 5
}
